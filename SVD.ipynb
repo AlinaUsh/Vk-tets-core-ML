{
 "cells": [
  {
   "cell_type": "code",
   "execution_count": 52,
   "metadata": {
    "cellId": "3il2w0ppqwewwjs3xpowl"
   },
   "outputs": [
    {
     "name": "stdout",
     "output_type": "stream",
     "text": [
      "Defaulting to user installation because normal site-packages is not writeable\n",
      "Collecting scikit-surprise\n",
      "  Downloading scikit-surprise-1.1.1.tar.gz (11.8 MB)\n",
      "\u001b[K     |████████████████████████████████| 11.8 MB 2.2 MB/s \n",
      "\u001b[?25hRequirement already satisfied: joblib>=0.11 in /usr/local/lib/python3.7/dist-packages (from scikit-surprise) (1.0.1)\n",
      "Requirement already satisfied: numpy>=1.11.2 in /kernel/lib/python3.7/site-packages (from scikit-surprise) (1.19.4)\n",
      "Requirement already satisfied: scipy>=1.0.0 in /usr/local/lib/python3.7/dist-packages (from scikit-surprise) (1.4.1)\n",
      "Requirement already satisfied: six>=1.10.0 in /kernel/lib/python3.7/site-packages (from scikit-surprise) (1.16.0)\n",
      "Building wheels for collected packages: scikit-surprise\n",
      "  Building wheel for scikit-surprise (setup.py) ... \u001b[?25ldone\n",
      "\u001b[?25h  Created wheel for scikit-surprise: filename=scikit_surprise-1.1.1-cp37-cp37m-linux_x86_64.whl size=1623195 sha256=423700414e7e8dd7be81c998b4df90a9e2f740427bb065641d919c3122823031\n",
      "  Stored in directory: /tmp/xdg_cache/pip/wheels/76/44/74/b498c42be47b2406bd27994e16c5188e337c657025ab400c1c\n",
      "Successfully built scikit-surprise\n",
      "Installing collected packages: scikit-surprise\n",
      "\u001b[33m  WARNING: The script surprise is installed in '/home/jupyter/.local/bin' which is not on PATH.\n",
      "  Consider adding this directory to PATH or, if you prefer to suppress this warning, use --no-warn-script-location.\u001b[0m\n",
      "Successfully installed scikit-surprise-1.1.1\n",
      "\u001b[33mWARNING: You are using pip version 21.0.1; however, version 22.0.4 is available.\n",
      "You should consider upgrading via the '/usr/local/bin/python3 -m pip install --upgrade pip' command.\u001b[0m\n"
     ]
    }
   ],
   "source": [
    "%pip install scikit-surprise"
   ]
  },
  {
   "cell_type": "code",
   "execution_count": 1,
   "metadata": {
    "cellId": "o0o3ne0bt39ouwlrqsxx3n",
    "id": "gxHuaCOKyJo-"
   },
   "outputs": [
    {
     "name": "stdout",
     "output_type": "stream",
     "text": [
      "\u001b[31mERROR: pip's dependency resolver does not currently take into account all the packages that are installed. This behaviour is the source of the following dependency conflicts.\n",
      "spacy 3.1.1 requires typing-extensions<4.0.0.0,>=3.7.4; python_version < \"3.8\", but you have typing-extensions 4.1.1 which is incompatible.\n",
      "moto 1.3.14 requires idna<2.9,>=2.5, but you have idna 2.10 which is incompatible.\n",
      "aws-sam-translator 1.38.0 requires jsonschema~=3.2, but you have jsonschema 4.4.0 which is incompatible.\u001b[0m\n",
      "\u001b[33mWARNING: You are using pip version 21.0.1; however, version 22.0.4 is available.\n",
      "You should consider upgrading via the '/usr/local/bin/python3 -m pip install --upgrade pip' command.\u001b[0m\n"
     ]
    }
   ],
   "source": [
    "%pip install -q kaggle"
   ]
  },
  {
   "cell_type": "code",
   "execution_count": 3,
   "metadata": {
    "cellId": "fkps320896apa5i6etmxkf",
    "id": "7CBVSn9QzJTX"
   },
   "outputs": [],
   "source": [
    "! mkdir ~/.kaggle\n",
    "! cp kaggle.json ~/.kaggle/\n",
    "! chmod 600 ~/.kaggle/kaggle.json"
   ]
  },
  {
   "cell_type": "code",
   "execution_count": 4,
   "metadata": {
    "cellId": "xne7rpcy4rgw67t88wlcd",
    "colab": {
     "base_uri": "https://localhost:8080/"
    },
    "id": "rE1JOxVPzU0y",
    "outputId": "816975ae-19fb-4356-8000-d8460875512f"
   },
   "outputs": [
    {
     "name": "stdout",
     "output_type": "stream",
     "text": [
      "Warning: Your Kaggle API key is readable by other users on this system! To fix this, you can run 'chmod 600 /home/jupyter/work/resources/kaggle.json'\n",
      "Downloading movielens-20m-dataset.zip to /home/jupyter/work/resources\n",
      " 99%|███████████████████████████████████████▋| 194M/195M [00:04<00:00, 74.3MB/s]\n",
      "100%|████████████████████████████████████████| 195M/195M [00:05<00:00, 34.9MB/s]\n"
     ]
    }
   ],
   "source": [
    "! kaggle datasets download -d grouplens/movielens-20m-dataset"
   ]
  },
  {
   "cell_type": "code",
   "execution_count": 5,
   "metadata": {
    "cellId": "rb166yexjojv12wy6591ud",
    "colab": {
     "base_uri": "https://localhost:8080/"
    },
    "id": "Wu8SVQUiz54u",
    "outputId": "420a197e-312a-4ce5-d6b1-3e28e44ae37b"
   },
   "outputs": [
    {
     "name": "stdout",
     "output_type": "stream",
     "text": [
      "Archive:  movielens-20m-dataset.zip\n",
      "  inflating: dataset/genome_scores.csv  \n",
      "  inflating: dataset/genome_tags.csv  \n",
      "  inflating: dataset/link.csv        \n",
      "  inflating: dataset/movie.csv       \n",
      "  inflating: dataset/rating.csv      \n",
      "  inflating: dataset/tag.csv         \n"
     ]
    }
   ],
   "source": [
    " ! unzip movielens-20m-dataset.zip -d dataset"
   ]
  },
  {
   "cell_type": "markdown",
   "metadata": {
    "cellId": "f2kre37n50oaw1cann2nlj"
   },
   "source": [
    "# Train/test division"
   ]
  },
  {
   "cell_type": "code",
   "execution_count": 6,
   "metadata": {
    "cellId": "lj781giobymz6g8vhpdct",
    "id": "WSSQ9JnB2MpJ"
   },
   "outputs": [],
   "source": [
    "import numpy as np\n",
    "import pandas as pd"
   ]
  },
  {
   "cell_type": "code",
   "execution_count": 7,
   "metadata": {
    "cellId": "fa7uojg8uoqgsnh0hiizq",
    "id": "1NwjdYaG2Mrw"
   },
   "outputs": [],
   "source": [
    "ratings = pd.read_csv('dataset/rating.csv')"
   ]
  },
  {
   "cell_type": "code",
   "execution_count": 8,
   "metadata": {
    "cellId": "k6zhkkvdghc5y5eslah40x",
    "colab": {
     "base_uri": "https://localhost:8080/",
     "height": 206
    },
    "id": "rJDIMo6-2Mu0",
    "outputId": "61da4ba5-ae83-40ac-98ea-28be851c0cde"
   },
   "outputs": [
    {
     "data": {
      "text/html": [
       "<div>\n",
       "<style scoped>\n",
       "    .dataframe tbody tr th:only-of-type {\n",
       "        vertical-align: middle;\n",
       "    }\n",
       "\n",
       "    .dataframe tbody tr th {\n",
       "        vertical-align: top;\n",
       "    }\n",
       "\n",
       "    .dataframe thead th {\n",
       "        text-align: right;\n",
       "    }\n",
       "</style>\n",
       "<table border=\"1\" class=\"dataframe\">\n",
       "  <thead>\n",
       "    <tr style=\"text-align: right;\">\n",
       "      <th></th>\n",
       "      <th>userId</th>\n",
       "      <th>movieId</th>\n",
       "      <th>rating</th>\n",
       "      <th>timestamp</th>\n",
       "    </tr>\n",
       "  </thead>\n",
       "  <tbody>\n",
       "    <tr>\n",
       "      <th>0</th>\n",
       "      <td>1</td>\n",
       "      <td>2</td>\n",
       "      <td>3.5</td>\n",
       "      <td>2005-04-02 23:53:47</td>\n",
       "    </tr>\n",
       "    <tr>\n",
       "      <th>1</th>\n",
       "      <td>1</td>\n",
       "      <td>29</td>\n",
       "      <td>3.5</td>\n",
       "      <td>2005-04-02 23:31:16</td>\n",
       "    </tr>\n",
       "    <tr>\n",
       "      <th>2</th>\n",
       "      <td>1</td>\n",
       "      <td>32</td>\n",
       "      <td>3.5</td>\n",
       "      <td>2005-04-02 23:33:39</td>\n",
       "    </tr>\n",
       "    <tr>\n",
       "      <th>3</th>\n",
       "      <td>1</td>\n",
       "      <td>47</td>\n",
       "      <td>3.5</td>\n",
       "      <td>2005-04-02 23:32:07</td>\n",
       "    </tr>\n",
       "    <tr>\n",
       "      <th>4</th>\n",
       "      <td>1</td>\n",
       "      <td>50</td>\n",
       "      <td>3.5</td>\n",
       "      <td>2005-04-02 23:29:40</td>\n",
       "    </tr>\n",
       "  </tbody>\n",
       "</table>\n",
       "</div>"
      ],
      "text/plain": [
       "   userId  movieId  rating            timestamp\n",
       "0       1        2     3.5  2005-04-02 23:53:47\n",
       "1       1       29     3.5  2005-04-02 23:31:16\n",
       "2       1       32     3.5  2005-04-02 23:33:39\n",
       "3       1       47     3.5  2005-04-02 23:32:07\n",
       "4       1       50     3.5  2005-04-02 23:29:40"
      ]
     },
     "execution_count": 8,
     "metadata": {},
     "output_type": "execute_result"
    }
   ],
   "source": [
    "ratings.head()"
   ]
  },
  {
   "cell_type": "code",
   "execution_count": 9,
   "metadata": {
    "cellId": "uv8kcja466fwnpdopzmwlc",
    "id": "a8tBnR8A2Z3m"
   },
   "outputs": [],
   "source": [
    "users = ratings['userId'].unique() #list of all users\n",
    "movies = ratings['movieId'].unique() #list of all movies"
   ]
  },
  {
   "cell_type": "code",
   "execution_count": 10,
   "metadata": {
    "cellId": "lzv68aflscwncf5o2csi",
    "id": "_gfb0_OI2Z68"
   },
   "outputs": [],
   "source": [
    "test = pd.DataFrame(columns=ratings.columns)\n",
    "train = pd.DataFrame(columns=ratings.columns)\n",
    "\n",
    "test_ratio = 0.2"
   ]
  },
  {
   "cell_type": "code",
   "execution_count": 11,
   "metadata": {
    "cellId": "ci7sqcbj8xgt9wtd9vy26l"
   },
   "outputs": [],
   "source": [
    "users_train = []\n",
    "users_test = []"
   ]
  },
  {
   "cell_type": "code",
   "execution_count": 16,
   "metadata": {
    "cellId": "578gr008yf9uv8g53eeex",
    "id": "60cgiSgj2NP-"
   },
   "outputs": [],
   "source": [
    "# We can use info about timestamp to split data\n",
    "\n",
    "i = 0\n",
    "for u in users:\n",
    "    user_reviews = ratings[ratings['userId'] == u]\n",
    "    n = len(user_reviews)\n",
    "    test_size = int(test_ratio * n)\n",
    "\n",
    "    user_reviews = user_reviews.sort_values('timestamp').reset_index()\n",
    "    user_reviews.drop('index', axis=1, inplace=True)\n",
    "        \n",
    "    user_test = user_reviews.iloc[n - 1 - test_size :]\n",
    "    user_train = user_reviews.iloc[: n - 2 - test_size]\n",
    "     \n",
    "    users_train.append(user_train)\n",
    "    users_test.append(user_test)"
   ]
  },
  {
   "cell_type": "code",
   "execution_count": 17,
   "metadata": {
    "cellId": "ynwhwgsz72mrrvfxarm2dg",
    "id": "Cf_jMJJOei2D"
   },
   "outputs": [],
   "source": [
    "test = pd.concat(users_test)"
   ]
  },
  {
   "cell_type": "code",
   "execution_count": 18,
   "metadata": {
    "cellId": "au2e9qmyra99lzlt1brqq",
    "colab": {
     "base_uri": "https://localhost:8080/",
     "height": 423
    },
    "id": "cyjKYqZ-dyAc",
    "outputId": "860ef1f4-f5ad-47d0-e3b5-2dc1bb291be6"
   },
   "outputs": [],
   "source": [
    "train = pd.concat(users_train)"
   ]
  },
  {
   "cell_type": "code",
   "execution_count": 39,
   "metadata": {
    "cellId": "hdk2id1i1rn0jyiwa1ochqq"
   },
   "outputs": [],
   "source": [
    "train.to_csv('mov_train.csv', index=False)"
   ]
  },
  {
   "cell_type": "code",
   "execution_count": 40,
   "metadata": {
    "cellId": "0v57j7gx31jbn6xh0nfnk9m",
    "colab": {
     "base_uri": "https://localhost:8080/",
     "height": 423
    },
    "id": "C2ntroDherP7",
    "outputId": "4f9c0827-81c5-4d8d-80a0-c47f49db8eb7"
   },
   "outputs": [],
   "source": [
    "test.to_csv('mov_test.csv', index=False)"
   ]
  },
  {
   "cell_type": "code",
   "execution_count": null,
   "metadata": {
    "cellId": "6484jzhp1l6wfzlfzpcdce",
    "id": "Icgw42IUuRG4"
   },
   "outputs": [],
   "source": [
    "train.to_csv('train_sorted.csv')\n",
    "test.to_csv('test_sorted.csv')"
   ]
  },
  {
   "cell_type": "code",
   "execution_count": 21,
   "metadata": {
    "cellId": "gler4qyxrgdak0p0mznfch",
    "id": "HuEQGhdouhmN"
   },
   "outputs": [
    {
     "data": {
      "text/html": [
       "<div>\n",
       "<style scoped>\n",
       "    .dataframe tbody tr th:only-of-type {\n",
       "        vertical-align: middle;\n",
       "    }\n",
       "\n",
       "    .dataframe tbody tr th {\n",
       "        vertical-align: top;\n",
       "    }\n",
       "\n",
       "    .dataframe thead th {\n",
       "        text-align: right;\n",
       "    }\n",
       "</style>\n",
       "<table border=\"1\" class=\"dataframe\">\n",
       "  <thead>\n",
       "    <tr style=\"text-align: right;\">\n",
       "      <th></th>\n",
       "      <th>userId</th>\n",
       "      <th>movieId</th>\n",
       "      <th>rating</th>\n",
       "      <th>timestamp</th>\n",
       "    </tr>\n",
       "  </thead>\n",
       "  <tbody>\n",
       "    <tr>\n",
       "      <th>0</th>\n",
       "      <td>1</td>\n",
       "      <td>924</td>\n",
       "      <td>3.5</td>\n",
       "      <td>2004-09-10 03:06:38</td>\n",
       "    </tr>\n",
       "    <tr>\n",
       "      <th>1</th>\n",
       "      <td>1</td>\n",
       "      <td>919</td>\n",
       "      <td>3.5</td>\n",
       "      <td>2004-09-10 03:07:01</td>\n",
       "    </tr>\n",
       "    <tr>\n",
       "      <th>2</th>\n",
       "      <td>1</td>\n",
       "      <td>2683</td>\n",
       "      <td>3.5</td>\n",
       "      <td>2004-09-10 03:07:30</td>\n",
       "    </tr>\n",
       "    <tr>\n",
       "      <th>3</th>\n",
       "      <td>1</td>\n",
       "      <td>1584</td>\n",
       "      <td>3.5</td>\n",
       "      <td>2004-09-10 03:07:36</td>\n",
       "    </tr>\n",
       "    <tr>\n",
       "      <th>4</th>\n",
       "      <td>1</td>\n",
       "      <td>1079</td>\n",
       "      <td>4.0</td>\n",
       "      <td>2004-09-10 03:07:45</td>\n",
       "    </tr>\n",
       "    <tr>\n",
       "      <th>...</th>\n",
       "      <td>...</td>\n",
       "      <td>...</td>\n",
       "      <td>...</td>\n",
       "      <td>...</td>\n",
       "    </tr>\n",
       "    <tr>\n",
       "      <th>292</th>\n",
       "      <td>138493</td>\n",
       "      <td>1955</td>\n",
       "      <td>4.0</td>\n",
       "      <td>2009-10-28 17:32:34</td>\n",
       "    </tr>\n",
       "    <tr>\n",
       "      <th>293</th>\n",
       "      <td>138493</td>\n",
       "      <td>765</td>\n",
       "      <td>4.0</td>\n",
       "      <td>2009-10-29 22:19:21</td>\n",
       "    </tr>\n",
       "    <tr>\n",
       "      <th>294</th>\n",
       "      <td>138493</td>\n",
       "      <td>5785</td>\n",
       "      <td>3.5</td>\n",
       "      <td>2009-10-29 22:19:35</td>\n",
       "    </tr>\n",
       "    <tr>\n",
       "      <th>295</th>\n",
       "      <td>138493</td>\n",
       "      <td>1429</td>\n",
       "      <td>4.0</td>\n",
       "      <td>2009-10-29 22:20:05</td>\n",
       "    </tr>\n",
       "    <tr>\n",
       "      <th>296</th>\n",
       "      <td>138493</td>\n",
       "      <td>1527</td>\n",
       "      <td>4.5</td>\n",
       "      <td>2009-11-09 16:50:32</td>\n",
       "    </tr>\n",
       "  </tbody>\n",
       "</table>\n",
       "<p>15776692 rows × 4 columns</p>\n",
       "</div>"
      ],
      "text/plain": [
       "     userId  movieId  rating            timestamp\n",
       "0         1      924     3.5  2004-09-10 03:06:38\n",
       "1         1      919     3.5  2004-09-10 03:07:01\n",
       "2         1     2683     3.5  2004-09-10 03:07:30\n",
       "3         1     1584     3.5  2004-09-10 03:07:36\n",
       "4         1     1079     4.0  2004-09-10 03:07:45\n",
       "..      ...      ...     ...                  ...\n",
       "292  138493     1955     4.0  2009-10-28 17:32:34\n",
       "293  138493      765     4.0  2009-10-29 22:19:21\n",
       "294  138493     5785     3.5  2009-10-29 22:19:35\n",
       "295  138493     1429     4.0  2009-10-29 22:20:05\n",
       "296  138493     1527     4.5  2009-11-09 16:50:32\n",
       "\n",
       "[15776692 rows x 4 columns]"
      ]
     },
     "execution_count": 21,
     "metadata": {},
     "output_type": "execute_result"
    }
   ],
   "source": [
    "train"
   ]
  },
  {
   "cell_type": "code",
   "execution_count": 22,
   "metadata": {
    "cellId": "qh59kskb6mpmxl2j1b5ki"
   },
   "outputs": [
    {
     "data": {
      "text/html": [
       "<div>\n",
       "<style scoped>\n",
       "    .dataframe tbody tr th:only-of-type {\n",
       "        vertical-align: middle;\n",
       "    }\n",
       "\n",
       "    .dataframe tbody tr th {\n",
       "        vertical-align: top;\n",
       "    }\n",
       "\n",
       "    .dataframe thead th {\n",
       "        text-align: right;\n",
       "    }\n",
       "</style>\n",
       "<table border=\"1\" class=\"dataframe\">\n",
       "  <thead>\n",
       "    <tr style=\"text-align: right;\">\n",
       "      <th></th>\n",
       "      <th>userId</th>\n",
       "      <th>movieId</th>\n",
       "      <th>rating</th>\n",
       "      <th>timestamp</th>\n",
       "    </tr>\n",
       "  </thead>\n",
       "  <tbody>\n",
       "    <tr>\n",
       "      <th>139</th>\n",
       "      <td>1</td>\n",
       "      <td>5540</td>\n",
       "      <td>4.0</td>\n",
       "      <td>2005-04-02 23:51:45</td>\n",
       "    </tr>\n",
       "    <tr>\n",
       "      <th>140</th>\n",
       "      <td>1</td>\n",
       "      <td>7164</td>\n",
       "      <td>3.5</td>\n",
       "      <td>2005-04-02 23:52:03</td>\n",
       "    </tr>\n",
       "    <tr>\n",
       "      <th>141</th>\n",
       "      <td>1</td>\n",
       "      <td>2021</td>\n",
       "      <td>4.0</td>\n",
       "      <td>2005-04-02 23:52:09</td>\n",
       "    </tr>\n",
       "    <tr>\n",
       "      <th>142</th>\n",
       "      <td>1</td>\n",
       "      <td>7046</td>\n",
       "      <td>4.0</td>\n",
       "      <td>2005-04-02 23:52:14</td>\n",
       "    </tr>\n",
       "    <tr>\n",
       "      <th>143</th>\n",
       "      <td>1</td>\n",
       "      <td>2143</td>\n",
       "      <td>4.0</td>\n",
       "      <td>2005-04-02 23:52:31</td>\n",
       "    </tr>\n",
       "    <tr>\n",
       "      <th>...</th>\n",
       "      <td>...</td>\n",
       "      <td>...</td>\n",
       "      <td>...</td>\n",
       "      <td>...</td>\n",
       "    </tr>\n",
       "    <tr>\n",
       "      <th>368</th>\n",
       "      <td>138493</td>\n",
       "      <td>6534</td>\n",
       "      <td>3.0</td>\n",
       "      <td>2009-12-07 18:18:28</td>\n",
       "    </tr>\n",
       "    <tr>\n",
       "      <th>369</th>\n",
       "      <td>138493</td>\n",
       "      <td>53464</td>\n",
       "      <td>4.0</td>\n",
       "      <td>2009-12-07 18:18:40</td>\n",
       "    </tr>\n",
       "    <tr>\n",
       "      <th>370</th>\n",
       "      <td>138493</td>\n",
       "      <td>1275</td>\n",
       "      <td>3.0</td>\n",
       "      <td>2010-01-01 20:42:32</td>\n",
       "    </tr>\n",
       "    <tr>\n",
       "      <th>371</th>\n",
       "      <td>138493</td>\n",
       "      <td>6996</td>\n",
       "      <td>3.0</td>\n",
       "      <td>2010-01-01 20:42:35</td>\n",
       "    </tr>\n",
       "    <tr>\n",
       "      <th>372</th>\n",
       "      <td>138493</td>\n",
       "      <td>405</td>\n",
       "      <td>3.0</td>\n",
       "      <td>2010-01-01 20:42:52</td>\n",
       "    </tr>\n",
       "  </tbody>\n",
       "</table>\n",
       "<p>4086028 rows × 4 columns</p>\n",
       "</div>"
      ],
      "text/plain": [
       "     userId  movieId  rating            timestamp\n",
       "139       1     5540     4.0  2005-04-02 23:51:45\n",
       "140       1     7164     3.5  2005-04-02 23:52:03\n",
       "141       1     2021     4.0  2005-04-02 23:52:09\n",
       "142       1     7046     4.0  2005-04-02 23:52:14\n",
       "143       1     2143     4.0  2005-04-02 23:52:31\n",
       "..      ...      ...     ...                  ...\n",
       "368  138493     6534     3.0  2009-12-07 18:18:28\n",
       "369  138493    53464     4.0  2009-12-07 18:18:40\n",
       "370  138493     1275     3.0  2010-01-01 20:42:32\n",
       "371  138493     6996     3.0  2010-01-01 20:42:35\n",
       "372  138493      405     3.0  2010-01-01 20:42:52\n",
       "\n",
       "[4086028 rows x 4 columns]"
      ]
     },
     "execution_count": 22,
     "metadata": {},
     "output_type": "execute_result"
    }
   ],
   "source": [
    "test"
   ]
  },
  {
   "cell_type": "code",
   "execution_count": 28,
   "metadata": {
    "cellId": "aqonutyig81141gxgtrv7g"
   },
   "outputs": [],
   "source": [
    "n_users = len(users)\n",
    "n_movies = len(movies)"
   ]
  },
  {
   "cell_type": "code",
   "execution_count": 29,
   "metadata": {
    "cellId": "d988wmx8ddlh4tubkl9br"
   },
   "outputs": [
    {
     "data": {
      "text/plain": [
       "(138493, 26744)"
      ]
     },
     "execution_count": 29,
     "metadata": {},
     "output_type": "execute_result"
    }
   ],
   "source": [
    "n_users, n_movies"
   ]
  },
  {
   "cell_type": "code",
   "execution_count": 45,
   "metadata": {
    "cellId": "zk429jkuedwlfp5wajk2m"
   },
   "outputs": [],
   "source": [
    "train.drop('timestamp', axis=1, inplace=True)\n",
    "test.drop('timestamp', axis=1, inplace=True)"
   ]
  },
  {
   "cell_type": "code",
   "execution_count": 46,
   "metadata": {
    "cellId": "3pq6ugr6xru6pk4wevh98e"
   },
   "outputs": [],
   "source": [
    "# Renumbering, becouse we have gaps\n",
    "\n",
    "train['userId'] = train['userId'].map({u: i for i, u in enumerate(users)})\n",
    "test['userId'] = test['userId'].map({u: i for i, u in enumerate(users)})\n",
    "train['movieId'] = train['movieId'].map({m: i for i, m in enumerate(movies)})\n",
    "test['movieId'] = test['movieId'].map({m: i for i, m in enumerate(movies)})"
   ]
  },
  {
   "cell_type": "code",
   "execution_count": 47,
   "metadata": {
    "cellId": "84ym9y81oq4vxhugub44g"
   },
   "outputs": [
    {
     "data": {
      "text/html": [
       "<div>\n",
       "<style scoped>\n",
       "    .dataframe tbody tr th:only-of-type {\n",
       "        vertical-align: middle;\n",
       "    }\n",
       "\n",
       "    .dataframe tbody tr th {\n",
       "        vertical-align: top;\n",
       "    }\n",
       "\n",
       "    .dataframe thead th {\n",
       "        text-align: right;\n",
       "    }\n",
       "</style>\n",
       "<table border=\"1\" class=\"dataframe\">\n",
       "  <thead>\n",
       "    <tr style=\"text-align: right;\">\n",
       "      <th></th>\n",
       "      <th>userId</th>\n",
       "      <th>movieId</th>\n",
       "      <th>rating</th>\n",
       "    </tr>\n",
       "  </thead>\n",
       "  <tbody>\n",
       "    <tr>\n",
       "      <th>0</th>\n",
       "      <td>0</td>\n",
       "      <td>20</td>\n",
       "      <td>3.5</td>\n",
       "    </tr>\n",
       "    <tr>\n",
       "      <th>1</th>\n",
       "      <td>0</td>\n",
       "      <td>19</td>\n",
       "      <td>3.5</td>\n",
       "    </tr>\n",
       "    <tr>\n",
       "      <th>2</th>\n",
       "      <td>0</td>\n",
       "      <td>86</td>\n",
       "      <td>3.5</td>\n",
       "    </tr>\n",
       "    <tr>\n",
       "      <th>3</th>\n",
       "      <td>0</td>\n",
       "      <td>61</td>\n",
       "      <td>3.5</td>\n",
       "    </tr>\n",
       "    <tr>\n",
       "      <th>4</th>\n",
       "      <td>0</td>\n",
       "      <td>23</td>\n",
       "      <td>4.0</td>\n",
       "    </tr>\n",
       "    <tr>\n",
       "      <th>...</th>\n",
       "      <td>...</td>\n",
       "      <td>...</td>\n",
       "      <td>...</td>\n",
       "    </tr>\n",
       "    <tr>\n",
       "      <th>292</th>\n",
       "      <td>138492</td>\n",
       "      <td>1244</td>\n",
       "      <td>4.0</td>\n",
       "    </tr>\n",
       "    <tr>\n",
       "      <th>293</th>\n",
       "      <td>138492</td>\n",
       "      <td>3569</td>\n",
       "      <td>4.0</td>\n",
       "    </tr>\n",
       "    <tr>\n",
       "      <th>294</th>\n",
       "      <td>138492</td>\n",
       "      <td>1750</td>\n",
       "      <td>3.5</td>\n",
       "    </tr>\n",
       "    <tr>\n",
       "      <th>295</th>\n",
       "      <td>138492</td>\n",
       "      <td>2634</td>\n",
       "      <td>4.0</td>\n",
       "    </tr>\n",
       "    <tr>\n",
       "      <th>296</th>\n",
       "      <td>138492</td>\n",
       "      <td>719</td>\n",
       "      <td>4.5</td>\n",
       "    </tr>\n",
       "  </tbody>\n",
       "</table>\n",
       "<p>15776692 rows × 3 columns</p>\n",
       "</div>"
      ],
      "text/plain": [
       "     userId  movieId  rating\n",
       "0         0       20     3.5\n",
       "1         0       19     3.5\n",
       "2         0       86     3.5\n",
       "3         0       61     3.5\n",
       "4         0       23     4.0\n",
       "..      ...      ...     ...\n",
       "292  138492     1244     4.0\n",
       "293  138492     3569     4.0\n",
       "294  138492     1750     3.5\n",
       "295  138492     2634     4.0\n",
       "296  138492      719     4.5\n",
       "\n",
       "[15776692 rows x 3 columns]"
      ]
     },
     "execution_count": 47,
     "metadata": {},
     "output_type": "execute_result"
    }
   ],
   "source": [
    "train"
   ]
  },
  {
   "cell_type": "code",
   "execution_count": 48,
   "metadata": {
    "cellId": "o3258cjivaccaj3urw14nk"
   },
   "outputs": [
    {
     "data": {
      "text/html": [
       "<div>\n",
       "<style scoped>\n",
       "    .dataframe tbody tr th:only-of-type {\n",
       "        vertical-align: middle;\n",
       "    }\n",
       "\n",
       "    .dataframe tbody tr th {\n",
       "        vertical-align: top;\n",
       "    }\n",
       "\n",
       "    .dataframe thead th {\n",
       "        text-align: right;\n",
       "    }\n",
       "</style>\n",
       "<table border=\"1\" class=\"dataframe\">\n",
       "  <thead>\n",
       "    <tr style=\"text-align: right;\">\n",
       "      <th></th>\n",
       "      <th>userId</th>\n",
       "      <th>movieId</th>\n",
       "      <th>rating</th>\n",
       "    </tr>\n",
       "  </thead>\n",
       "  <tbody>\n",
       "    <tr>\n",
       "      <th>139</th>\n",
       "      <td>0</td>\n",
       "      <td>137</td>\n",
       "      <td>4.0</td>\n",
       "    </tr>\n",
       "    <tr>\n",
       "      <th>140</th>\n",
       "      <td>0</td>\n",
       "      <td>159</td>\n",
       "      <td>3.5</td>\n",
       "    </tr>\n",
       "    <tr>\n",
       "      <th>141</th>\n",
       "      <td>0</td>\n",
       "      <td>68</td>\n",
       "      <td>4.0</td>\n",
       "    </tr>\n",
       "    <tr>\n",
       "      <th>142</th>\n",
       "      <td>0</td>\n",
       "      <td>157</td>\n",
       "      <td>4.0</td>\n",
       "    </tr>\n",
       "    <tr>\n",
       "      <th>143</th>\n",
       "      <td>0</td>\n",
       "      <td>73</td>\n",
       "      <td>4.0</td>\n",
       "    </tr>\n",
       "    <tr>\n",
       "      <th>...</th>\n",
       "      <td>...</td>\n",
       "      <td>...</td>\n",
       "      <td>...</td>\n",
       "    </tr>\n",
       "    <tr>\n",
       "      <th>368</th>\n",
       "      <td>138492</td>\n",
       "      <td>832</td>\n",
       "      <td>3.0</td>\n",
       "    </tr>\n",
       "    <tr>\n",
       "      <th>369</th>\n",
       "      <td>138492</td>\n",
       "      <td>972</td>\n",
       "      <td>4.0</td>\n",
       "    </tr>\n",
       "    <tr>\n",
       "      <th>370</th>\n",
       "      <td>138492</td>\n",
       "      <td>2233</td>\n",
       "      <td>3.0</td>\n",
       "    </tr>\n",
       "    <tr>\n",
       "      <th>371</th>\n",
       "      <td>138492</td>\n",
       "      <td>847</td>\n",
       "      <td>3.0</td>\n",
       "    </tr>\n",
       "    <tr>\n",
       "      <th>372</th>\n",
       "      <td>138492</td>\n",
       "      <td>695</td>\n",
       "      <td>3.0</td>\n",
       "    </tr>\n",
       "  </tbody>\n",
       "</table>\n",
       "<p>4086028 rows × 3 columns</p>\n",
       "</div>"
      ],
      "text/plain": [
       "     userId  movieId  rating\n",
       "139       0      137     4.0\n",
       "140       0      159     3.5\n",
       "141       0       68     4.0\n",
       "142       0      157     4.0\n",
       "143       0       73     4.0\n",
       "..      ...      ...     ...\n",
       "368  138492      832     3.0\n",
       "369  138492      972     4.0\n",
       "370  138492     2233     3.0\n",
       "371  138492      847     3.0\n",
       "372  138492      695     3.0\n",
       "\n",
       "[4086028 rows x 3 columns]"
      ]
     },
     "execution_count": 48,
     "metadata": {},
     "output_type": "execute_result"
    }
   ],
   "source": [
    "test"
   ]
  },
  {
   "cell_type": "markdown",
   "metadata": {
    "cellId": "h94wdjqp6azpc9hw3khjt"
   },
   "source": [
    "# SVD"
   ]
  },
  {
   "cell_type": "code",
   "execution_count": 53,
   "metadata": {
    "cellId": "uv2xcsee4xeqtv5um6r3n"
   },
   "outputs": [],
   "source": [
    "from surprise.prediction_algorithms import SVD\n",
    "from surprise import Reader\n",
    "from surprise import Dataset\n",
    "from surprise.model_selection import train_test_split\n",
    "from surprise.accuracy import rmse\n",
    "from surprise.model_selection import GridSearchCV"
   ]
  },
  {
   "cell_type": "code",
   "execution_count": 106,
   "metadata": {
    "cellId": "0jxll4kvasl8bud6sj3jed"
   },
   "outputs": [],
   "source": [
    "reader = Reader(rating_scale=(train.rating.min(), train.rating.max()))"
   ]
  },
  {
   "cell_type": "code",
   "execution_count": 57,
   "metadata": {
    "cellId": "x2cpknxonpeehfzgwkyw9d"
   },
   "outputs": [],
   "source": [
    "train_sp = Dataset.load_from_df(train, reader)"
   ]
  },
  {
   "cell_type": "code",
   "execution_count": 58,
   "metadata": {
    "cellId": "q1tjd9tyqpr1gj6txtx04w"
   },
   "outputs": [],
   "source": [
    "VALIDATION_FRAC = 0.05"
   ]
  },
  {
   "cell_type": "code",
   "execution_count": 59,
   "metadata": {
    "cellId": "2uy0xwhc011vdmnb319za"
   },
   "outputs": [],
   "source": [
    "train_set, valid_set = train_test_split(train_sp, train_size=1 - VALIDATION_FRAC, test_size=VALIDATION_FRAC)"
   ]
  },
  {
   "cell_type": "code",
   "execution_count": 60,
   "metadata": {
    "cellId": "cih7xmq6swlq6h58sz6i2e"
   },
   "outputs": [],
   "source": [
    "svd = SVD(n_factors=50, n_epochs=10, lr_all=0.05)"
   ]
  },
  {
   "cell_type": "code",
   "execution_count": 61,
   "metadata": {
    "cellId": "cwab10qarznwzu053d9azb"
   },
   "outputs": [
    {
     "data": {
      "text/plain": [
       "<surprise.prediction_algorithms.matrix_factorization.SVD at 0x7f89608dac50>"
      ]
     },
     "execution_count": 61,
     "metadata": {},
     "output_type": "execute_result"
    }
   ],
   "source": [
    "svd.fit(train_set)"
   ]
  },
  {
   "cell_type": "code",
   "execution_count": 62,
   "metadata": {
    "cellId": "iw0jtzwocs9hpbhg1g1rr"
   },
   "outputs": [],
   "source": [
    "preds = svd.test(valid_set)"
   ]
  },
  {
   "cell_type": "code",
   "execution_count": 63,
   "metadata": {
    "cellId": "kscmz0e94w6vrzjuc7flq"
   },
   "outputs": [],
   "source": [
    "y_pred = []\n",
    "y_true = []\n",
    "for i in range(len(preds)):\n",
    "    y_pred.append(preds[i].est)\n",
    "    y_true.append(preds[i].r_ui)"
   ]
  },
  {
   "cell_type": "code",
   "execution_count": null,
   "metadata": {
    "cellId": "qyakvr7g4ia4t251e48vr5"
   },
   "outputs": [],
   "source": []
  },
  {
   "cell_type": "code",
   "execution_count": 65,
   "metadata": {
    "cellId": "3e6etdbjjcn5m6mukeohdb"
   },
   "outputs": [
    {
     "data": {
      "text/plain": [
       "788835"
      ]
     },
     "execution_count": 65,
     "metadata": {},
     "output_type": "execute_result"
    }
   ],
   "source": [
    "len(y_pred)"
   ]
  },
  {
   "cell_type": "code",
   "execution_count": 88,
   "metadata": {
    "cellId": "wfgvvfudij01dhi17j0n6n"
   },
   "outputs": [],
   "source": [
    "from sklearn.metrics import r2_score, accuracy_score, mean_squared_error, mean_absolute_error"
   ]
  },
  {
   "cell_type": "code",
   "execution_count": 68,
   "metadata": {
    "cellId": "syloyjx54lcbtnz84jlc"
   },
   "outputs": [
    {
     "name": "stdout",
     "output_type": "stream",
     "text": [
      "r2_score: 0.298508586649587\n",
      "mean_squared_error: 0.7788608616987218\n"
     ]
    }
   ],
   "source": [
    "print(f'r2_score: {r2_score(y_true, y_pred)}')\n",
    "print(f'mean_squared_error: {mean_squared_error(y_true, y_pred)}')"
   ]
  },
  {
   "cell_type": "code",
   "execution_count": 71,
   "metadata": {
    "cellId": "9kuwednkbumvfmluu4cqf"
   },
   "outputs": [
    {
     "name": "stdout",
     "output_type": "stream",
     "text": [
      "0.8842877652305642\n",
      "{'n_epochs': 10, 'lr_all': 0.005, 'reg_all': 0.4, 'n_factors': 10}\n"
     ]
    }
   ],
   "source": [
    "\n",
    "param_grid = {\n",
    "    'n_epochs': [10], \n",
    "    'lr_all': [0.005, 0.01, 0.05, 0.1], \n",
    "    'reg_all': [0.4, 0.6], \n",
    "    'n_factors': [10, 30, 50]\n",
    "}\n",
    "\n",
    "gs = GridSearchCV(SVD, param_grid, measures=['rmse', 'mae'], cv=3)\n",
    "\n",
    "gs.fit(train_sp)\n",
    "\n",
    "# best RMSE score\n",
    "print(gs.best_score['rmse'])\n",
    "\n",
    "# combination of parameters that gave the best RMSE score\n",
    "print(gs.best_params['rmse'])"
   ]
  },
  {
   "cell_type": "code",
   "execution_count": 72,
   "metadata": {
    "cellId": "259gwyamwcjey26ftpn614"
   },
   "outputs": [
    {
     "name": "stdout",
     "output_type": "stream",
     "text": [
      "0.6866013861982388\n",
      "{'n_epochs': 10, 'lr_all': 0.005, 'reg_all': 0.4, 'n_factors': 10}\n"
     ]
    }
   ],
   "source": [
    "print(gs.best_score['mae'])\n",
    "\n",
    "print(gs.best_params['mae'])"
   ]
  },
  {
   "cell_type": "code",
   "execution_count": 73,
   "metadata": {
    "cellId": "8xt4qwe30kr5kqwg3yx0p6"
   },
   "outputs": [
    {
     "name": "stdout",
     "output_type": "stream",
     "text": [
      "0.8842877652305642\n",
      "{'n_epochs': 10, 'lr_all': 0.005, 'reg_all': 0.4, 'n_factors': 10}\n"
     ]
    }
   ],
   "source": [
    "print(gs.best_score['rmse'])\n",
    "print(gs.best_params['rmse'])"
   ]
  },
  {
   "cell_type": "code",
   "execution_count": 78,
   "metadata": {
    "cellId": "zqrkjauwz6yxrjy8mida"
   },
   "outputs": [
    {
     "name": "stdout",
     "output_type": "stream",
     "text": [
      "rmse:\n",
      "0.8841479041085282\n",
      "{'n_epochs': 10, 'lr_all': 0.005, 'reg_all': 0.4, 'n_factors': 5}\n",
      "\n",
      "mae:\n",
      "0.6862865244840086\n",
      "{'n_epochs': 10, 'lr_all': 0.005, 'reg_all': 0.4, 'n_factors': 5}\n"
     ]
    }
   ],
   "source": [
    "param_grid = {\n",
    "    'n_epochs': [10], \n",
    "    'lr_all': [0.005], \n",
    "    'reg_all': [0.4], \n",
    "    'n_factors': [5, 10, 20]\n",
    "}\n",
    "\n",
    "gs = GridSearchCV(SVD, param_grid, measures=['rmse', 'mae'], cv=3)\n",
    "\n",
    "gs.fit(train_sp)\n",
    "\n",
    "print('rmse:')\n",
    "print(gs.best_score['rmse'])\n",
    "print(gs.best_params['rmse'])\n",
    "print()\n",
    "print('mae:')\n",
    "print(gs.best_score['mae'])\n",
    "print(gs.best_params['mae'])"
   ]
  },
  {
   "cell_type": "code",
   "execution_count": 79,
   "metadata": {
    "cellId": "v4ag9l4udtf77srzbxz7l"
   },
   "outputs": [
    {
     "name": "stdout",
     "output_type": "stream",
     "text": [
      "rmse:\n",
      "0.8831234949109747\n",
      "{'n_epochs': 20, 'lr_all': 0.005, 'reg_all': 0.4, 'n_factors': 10}\n",
      "\n",
      "mae:\n",
      "0.6855297761300689\n",
      "{'n_epochs': 20, 'lr_all': 0.005, 'reg_all': 0.4, 'n_factors': 10}\n"
     ]
    }
   ],
   "source": [
    "param_grid = {\n",
    "    'n_epochs': [10, 20], \n",
    "    'lr_all': [0.001, 0.005], \n",
    "    'reg_all': [0.4], \n",
    "    'n_factors': [5, 10, 20]\n",
    "}\n",
    "\n",
    "gs = GridSearchCV(SVD, param_grid, measures=['rmse', 'mae'], cv=3)\n",
    "\n",
    "gs.fit(train_sp)\n",
    "\n",
    "print('rmse:')\n",
    "print(gs.best_score['rmse'])\n",
    "print(gs.best_params['rmse'])\n",
    "print('')\n",
    "print('mae:')\n",
    "print(gs.best_score['mae'])\n",
    "print(gs.best_params['mae'])"
   ]
  },
  {
   "cell_type": "code",
   "execution_count": 80,
   "metadata": {
    "cellId": "ble5ru9fu6gsfwgwwq9ucr"
   },
   "outputs": [
    {
     "name": "stdout",
     "output_type": "stream",
     "text": [
      "rmse:\n",
      "0.8843523557238782\n",
      "{'n_epochs': 10, 'lr_all': 0.005, 'reg_all': 0.4, 'n_factors': 1}\n",
      "\n",
      "mae:\n",
      "0.6864876134000771\n",
      "{'n_epochs': 10, 'lr_all': 0.005, 'reg_all': 0.4, 'n_factors': 1}\n"
     ]
    }
   ],
   "source": [
    "param_grid = {\n",
    "    'n_epochs': [10], \n",
    "    'lr_all': [0.005], \n",
    "    'reg_all': [0.4], \n",
    "    'n_factors': [1, 2, 3, 5]\n",
    "}\n",
    "\n",
    "gs = GridSearchCV(SVD, param_grid, measures=['rmse', 'mae'], cv=3)\n",
    "\n",
    "gs.fit(train_sp)\n",
    "\n",
    "print('rmse:')\n",
    "print(gs.best_score['rmse'])\n",
    "print(gs.best_params['rmse'])\n",
    "print()\n",
    "print('mae:')\n",
    "print(gs.best_score['mae'])\n",
    "print(gs.best_params['mae'])"
   ]
  },
  {
   "cell_type": "code",
   "execution_count": null,
   "metadata": {
    "cellId": "j6dhgigvez430cmf52zt7"
   },
   "outputs": [],
   "source": [
    "# Params are same in mae and mse best models"
   ]
  },
  {
   "cell_type": "code",
   "execution_count": 90,
   "metadata": {
    "cellId": "05y5niw1fqoidmfpmaew4nb"
   },
   "outputs": [
    {
     "data": {
      "text/plain": [
       "<surprise.prediction_algorithms.matrix_factorization.SVD at 0x7f4b753b1550>"
      ]
     },
     "execution_count": 90,
     "metadata": {},
     "output_type": "execute_result"
    }
   ],
   "source": [
    "algo = gs.best_estimator['rmse']\n",
    "algo.fit(train_sp.build_full_trainset())"
   ]
  },
  {
   "cell_type": "code",
   "execution_count": 92,
   "metadata": {
    "cellId": "o0hss1a05e81hueyx9ijoj"
   },
   "outputs": [
    {
     "name": "stdout",
     "output_type": "stream",
     "text": [
      "best rmse: 0.8843523557238782\n",
      "params: {'n_epochs': 10, 'lr_all': 0.005, 'reg_all': 0.4, 'n_factors': 1}\n",
      "r2_score: 0.31348423955243054\n",
      "mean_squared_error: 0.7622335021866485\n",
      "rmse: 0.8730598502889986\n",
      "mae: 0.6785521234794458\n"
     ]
    }
   ],
   "source": [
    "print(f'best rmse: {gs.best_score[\"rmse\"]}')\n",
    "print(f'params: {gs.best_params[\"rmse\"]}')\n",
    "\n",
    "preds = algo.test(valid_set)\n",
    "y_pred = []\n",
    "y_true = []\n",
    "for i in range(len(preds)):\n",
    "    y_pred.append(preds[i].est)\n",
    "    y_true.append(preds[i].r_ui)\n",
    "print(f'r2_score: {r2_score(y_true, y_pred)}')\n",
    "print(f'mean_squared_error: {mean_squared_error(y_true, y_pred)}')\n",
    "print(f'rmse: {mean_squared_error(y_true, y_pred, squared=False)}')\n",
    "print(f'mae: {mean_absolute_error(y_true, y_pred)}')"
   ]
  },
  {
   "cell_type": "code",
   "execution_count": null,
   "metadata": {
    "cellId": "yl9syd0h8ecx97y93xtpul"
   },
   "outputs": [],
   "source": []
  },
  {
   "cell_type": "code",
   "execution_count": 98,
   "metadata": {
    "cellId": "x4dlngkjuxi8qw3v4y1a0p"
   },
   "outputs": [
    {
     "name": "stdout",
     "output_type": "stream",
     "text": [
      "rmse:\n",
      "0.8833191159124283\n",
      "{'n_epochs': 20, 'lr_all': 0.005, 'reg_all': 0.4, 'n_factors': 10}\n",
      "\n",
      "mae:\n",
      "0.6854937175264896\n",
      "{'n_epochs': 20, 'lr_all': 0.005, 'reg_all': 0.4, 'n_factors': 10}\n"
     ]
    }
   ],
   "source": [
    "param_grid = {\n",
    "    'n_epochs': [20], \n",
    "    'lr_all': [0.005], \n",
    "    'reg_all': [0.4], \n",
    "    'n_factors': [10, 15]\n",
    "}\n",
    "\n",
    "gs = GridSearchCV(SVD, param_grid, measures=['rmse', 'mae'], cv=3)\n",
    "\n",
    "gs.fit(train_sp)\n",
    "\n",
    "print('rmse:')\n",
    "print(gs.best_score['rmse'])\n",
    "print(gs.best_params['rmse'])\n",
    "print('')\n",
    "print('mae:')\n",
    "print(gs.best_score['mae'])\n",
    "print(gs.best_params['mae'])"
   ]
  },
  {
   "cell_type": "code",
   "execution_count": null,
   "metadata": {
    "cellId": "nxi5cf60zbffqu2cq3td"
   },
   "outputs": [],
   "source": [
    "# Params are same in mae and mse best models"
   ]
  },
  {
   "cell_type": "code",
   "execution_count": 99,
   "metadata": {
    "cellId": "imhnw35k42ecd3xd8c7rcs"
   },
   "outputs": [
    {
     "name": "stdout",
     "output_type": "stream",
     "text": [
      "best rmse: 0.8833191159124283\n",
      "params: {'n_epochs': 20, 'lr_all': 0.005, 'reg_all': 0.4, 'n_factors': 10}\n",
      "r2_score: 0.3153040677941975\n",
      "mean_squared_error: 0.7602129600024518\n",
      "rmse: 0.8719019210911579\n",
      "mae: 0.6775071852527216\n"
     ]
    }
   ],
   "source": [
    "algo = gs.best_estimator['rmse']\n",
    "algo.fit(train_sp.build_full_trainset())\n",
    "\n",
    "print(f'best rmse: {gs.best_score[\"rmse\"]}')\n",
    "print(f'params: {gs.best_params[\"rmse\"]}')\n",
    "\n",
    "preds = algo.test(valid_set)\n",
    "y_pred = []\n",
    "y_true = []\n",
    "for i in range(len(preds)):\n",
    "    y_pred.append(preds[i].est)\n",
    "    y_true.append(preds[i].r_ui)\n",
    "print(f'r2_score: {r2_score(y_true, y_pred)}')\n",
    "print(f'mean_squared_error: {mean_squared_error(y_true, y_pred)}')\n",
    "print(f'rmse: {mean_squared_error(y_true, y_pred, squared=False)}')\n",
    "print(f'mae: {mean_absolute_error(y_true, y_pred)}')"
   ]
  },
  {
   "cell_type": "code",
   "execution_count": 109,
   "metadata": {
    "cellId": "xqx1yakzhaogyoqlfintw"
   },
   "outputs": [],
   "source": [
    "test_sp = Dataset.load_from_df(test, reader)"
   ]
  },
  {
   "cell_type": "code",
   "execution_count": 102,
   "metadata": {
    "cellId": "7umrqkesbf9xt7hzhat72"
   },
   "outputs": [],
   "source": [
    "# https://github.com/NicolasHug/Surprise/blob/master/examples/precision_recall_at_k.py"
   ]
  },
  {
   "cell_type": "code",
   "execution_count": 116,
   "metadata": {
    "cellId": "a702mwy7u3wll6jx18ww"
   },
   "outputs": [],
   "source": [
    "_, test_set = train_test_split(test_sp, test_size=0.9999999)"
   ]
  },
  {
   "cell_type": "code",
   "execution_count": 117,
   "metadata": {
    "cellId": "nuhldsui8wsx9p381qv7u"
   },
   "outputs": [],
   "source": [
    "from collections import defaultdict"
   ]
  },
  {
   "cell_type": "code",
   "execution_count": 118,
   "metadata": {
    "cellId": "yst8tdb7dcyws38qdoki"
   },
   "outputs": [
    {
     "name": "stdout",
     "output_type": "stream",
     "text": [
      "0.40991636560855693\n",
      "0.1721750243098804\n"
     ]
    }
   ],
   "source": [
    "def precision_recall_at_k(predictions, k=10, threshold=3.5):\n",
    "    \"\"\"Return precision and recall at k metrics for each user\"\"\"\n",
    "\n",
    "    # First map the predictions to each user.\n",
    "    user_est_true = defaultdict(list)\n",
    "    for uid, _, true_r, est, _ in predictions:\n",
    "        user_est_true[uid].append((est, true_r))\n",
    "\n",
    "    precisions = dict()\n",
    "    recalls = dict()\n",
    "    for uid, user_ratings in user_est_true.items():\n",
    "\n",
    "        # Sort user ratings by estimated value\n",
    "        user_ratings.sort(key=lambda x: x[0], reverse=True)\n",
    "\n",
    "        # Number of relevant items\n",
    "        n_rel = sum((true_r >= threshold) for (_, true_r) in user_ratings)\n",
    "\n",
    "        # Number of recommended items in top k\n",
    "        n_rec_k = sum((est >= threshold) for (est, _) in user_ratings[:k])\n",
    "\n",
    "        # Number of relevant and recommended items in top k\n",
    "        n_rel_and_rec_k = sum(((true_r >= threshold) and (est >= threshold))\n",
    "                              for (est, true_r) in user_ratings[:k])\n",
    "\n",
    "        # Precision@K: Proportion of recommended items that are relevant\n",
    "        # When n_rec_k is 0, Precision is undefined. We here set it to 0.\n",
    "\n",
    "        precisions[uid] = n_rel_and_rec_k / n_rec_k if n_rec_k != 0 else 0\n",
    "\n",
    "        # Recall@K: Proportion of relevant items that are recommended\n",
    "        # When n_rel is 0, Recall is undefined. We here set it to 0.\n",
    "\n",
    "        recalls[uid] = n_rel_and_rec_k / n_rel if n_rel != 0 else 0\n",
    "\n",
    "    return precisions, recalls\n",
    "\n",
    "predictions = algo.test(test_set)\n",
    "precisions, recalls = precision_recall_at_k(predictions, k=10, threshold=4)\n",
    "\n",
    "    # Precision and recall can then be averaged over all users\n",
    "print(sum(prec for prec in precisions.values()) / len(precisions))\n",
    "print(sum(rec for rec in recalls.values()) / len(recalls))"
   ]
  },
  {
   "cell_type": "code",
   "execution_count": null,
   "metadata": {
    "cellId": "blqzr4v1siqkzrkbxwhmdb"
   },
   "outputs": [],
   "source": []
  }
 ],
 "metadata": {
  "colab": {
   "name": "vk_core_ml.ipynb",
   "provenance": []
  },
  "kernelspec": {
   "display_name": "Yandex DataSphere Kernel",
   "language": "python",
   "name": "python3"
  },
  "language_info": {
   "codemirror_mode": {
    "name": "ipython",
    "version": 3
   },
   "file_extension": ".py",
   "mimetype": "text/x-python",
   "name": "python",
   "nbconvert_exporter": "python",
   "pygments_lexer": "ipython3",
   "version": "3.7.7"
  },
  "notebookId": "80d078b9-1378-4584-a554-47bfa52d9c81",
  "notebookPath": "SVD.ipynb"
 },
 "nbformat": 4,
 "nbformat_minor": 4
}
