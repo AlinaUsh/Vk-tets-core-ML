{
 "cells": [
  {
   "cell_type": "code",
   "execution_count": 87,
   "metadata": {
    "cellId": "6s8xpfgfll7ty07jkf3sdb",
    "colab": {
     "base_uri": "https://localhost:8080/"
    },
    "collapsed": true,
    "id": "wbeGfN6JH-kt",
    "jupyter": {
     "outputs_hidden": true
    },
    "outputId": "d16e5f84-c289-4bc6-a464-9184571cce0e"
   },
   "outputs": [
    {
     "name": "stdout",
     "output_type": "stream",
     "text": [
      "Defaulting to user installation because normal site-packages is not writeable\n",
      "Collecting lightfm\n",
      "  Downloading lightfm-1.16.tar.gz (310 kB)\n",
      "\u001b[K     |████████████████████████████████| 310 kB 1.4 MB/s \n",
      "\u001b[?25hRequirement already satisfied: numpy in /kernel/lib/python3.7/site-packages (from lightfm) (1.19.4)\n",
      "Requirement already satisfied: scipy>=0.17.0 in /usr/local/lib/python3.7/dist-packages (from lightfm) (1.4.1)\n",
      "Requirement already satisfied: requests in /kernel/lib/python3.7/site-packages (from lightfm) (2.25.1)\n",
      "Requirement already satisfied: scikit-learn in /usr/local/lib/python3.7/dist-packages (from lightfm) (0.22.1)\n",
      "Requirement already satisfied: urllib3<1.27,>=1.21.1 in /home/jupyter/.local/lib/python3.7/site-packages (from requests->lightfm) (1.24.3)\n",
      "Requirement already satisfied: certifi>=2017.4.17 in /kernel/lib/python3.7/site-packages (from requests->lightfm) (2021.10.8)\n",
      "Requirement already satisfied: idna<3,>=2.5 in /kernel/lib/python3.7/site-packages (from requests->lightfm) (2.10)\n",
      "Requirement already satisfied: chardet<5,>=3.0.2 in /kernel/lib/python3.7/site-packages (from requests->lightfm) (4.0.0)\n",
      "Requirement already satisfied: joblib>=0.11 in /usr/local/lib/python3.7/dist-packages (from scikit-learn->lightfm) (1.0.1)\n",
      "Building wheels for collected packages: lightfm\n",
      "  Building wheel for lightfm (setup.py) ... \u001b[?25ldone\n",
      "\u001b[?25h  Created wheel for lightfm: filename=lightfm-1.16-cp37-cp37m-linux_x86_64.whl size=706166 sha256=f3bb0482d458c317628b7233fc83ec4adcc2b73d04741526bfa64d61c0ce4851\n",
      "  Stored in directory: /tmp/xdg_cache/pip/wheels/f8/56/28/5772a3bd3413d65f03aa452190b00898b680b10028a1021914\n",
      "Successfully built lightfm\n",
      "Installing collected packages: lightfm\n",
      "Successfully installed lightfm-1.16\n",
      "\u001b[33mWARNING: You are using pip version 21.0.1; however, version 22.0.4 is available.\n",
      "You should consider upgrading via the '/usr/local/bin/python3 -m pip install --upgrade pip' command.\u001b[0m\n"
     ]
    }
   ],
   "source": [
    "%pip install lightfm"
   ]
  },
  {
   "cell_type": "code",
   "execution_count": 89,
   "metadata": {
    "cellId": "dgqvrhkcl6mu7uvbox72o",
    "collapsed": true,
    "id": "gxHuaCOKyJo-",
    "jupyter": {
     "outputs_hidden": true
    }
   },
   "outputs": [
    {
     "name": "stdout",
     "output_type": "stream",
     "text": [
      "\u001b[33mWARNING: You are using pip version 21.0.1; however, version 22.0.4 is available.\n",
      "You should consider upgrading via the '/usr/local/bin/python3 -m pip install --upgrade pip' command.\u001b[0m\n"
     ]
    }
   ],
   "source": [
    "%pip install -q kaggle"
   ]
  },
  {
   "cell_type": "code",
   "execution_count": 90,
   "metadata": {
    "cellId": "h929eqg8xvsbc0e146a0xm",
    "collapsed": true,
    "id": "7CBVSn9QzJTX",
    "jupyter": {
     "outputs_hidden": true
    }
   },
   "outputs": [
    {
     "name": "stdout",
     "output_type": "stream",
     "text": [
      "mkdir: cannot create directory ‘/home/jupyter/.kaggle’: File exists\n"
     ]
    },
    {
     "ename": "Exception",
     "evalue": "Process exited with code 1",
     "output_type": "error",
     "traceback": [
      "\u001b[0;31m---------------------------------------------------------------------------\u001b[0m",
      "\u001b[0;31mException\u001b[0m                                 Traceback (most recent call last)",
      "\u001b[0;32m<ipython-input-5-13f6b1c867c1>\u001b[0m in \u001b[0;36m<module>\u001b[0;34m\u001b[0m\n\u001b[0;32m----> 1\u001b[0;31m \u001b[0mget_ipython\u001b[0m\u001b[0;34m(\u001b[0m\u001b[0;34m)\u001b[0m\u001b[0;34m.\u001b[0m\u001b[0msystem\u001b[0m\u001b[0;34m(\u001b[0m\u001b[0;34m' mkdir ~/.kaggle'\u001b[0m\u001b[0;34m)\u001b[0m\u001b[0;34m\u001b[0m\u001b[0;34m\u001b[0m\u001b[0m\n\u001b[0m\u001b[1;32m      2\u001b[0m \u001b[0mget_ipython\u001b[0m\u001b[0;34m(\u001b[0m\u001b[0;34m)\u001b[0m\u001b[0;34m.\u001b[0m\u001b[0msystem\u001b[0m\u001b[0;34m(\u001b[0m\u001b[0;34m' cp kaggle.json ~/.kaggle/'\u001b[0m\u001b[0;34m)\u001b[0m\u001b[0;34m\u001b[0m\u001b[0;34m\u001b[0m\u001b[0m\n\u001b[1;32m      3\u001b[0m \u001b[0mget_ipython\u001b[0m\u001b[0;34m(\u001b[0m\u001b[0;34m)\u001b[0m\u001b[0;34m.\u001b[0m\u001b[0msystem\u001b[0m\u001b[0;34m(\u001b[0m\u001b[0;34m' chmod 600 ~/.kaggle/kaggle.json'\u001b[0m\u001b[0;34m)\u001b[0m\u001b[0;34m\u001b[0m\u001b[0;34m\u001b[0m\u001b[0m\n\u001b[1;32m      4\u001b[0m \u001b[0;31m#\u001b[0m\u001b[0;34m\u001b[0m\u001b[0;34m\u001b[0m\u001b[0;34m\u001b[0m\u001b[0m\n",
      "\u001b[0;32m/kernel/lib/python3.7/site-packages/ml_kernel/kernel.py\u001b[0m in \u001b[0;36m<lambda>\u001b[0;34m(code)\u001b[0m\n\u001b[1;32m    261\u001b[0m \u001b[0;34m\u001b[0m\u001b[0m\n\u001b[1;32m    262\u001b[0m         \u001b[0mself\u001b[0m\u001b[0;34m.\u001b[0m\u001b[0m_script_executor\u001b[0m \u001b[0;34m=\u001b[0m \u001b[0mScriptExecutor\u001b[0m\u001b[0;34m(\u001b[0m\u001b[0mProcessHandler\u001b[0m\u001b[0;34m(\u001b[0m\u001b[0;34m)\u001b[0m\u001b[0;34m.\u001b[0m\u001b[0msystem\u001b[0m\u001b[0;34m)\u001b[0m\u001b[0;34m\u001b[0m\u001b[0;34m\u001b[0m\u001b[0m\n\u001b[0;32m--> 263\u001b[0;31m         \u001b[0mself\u001b[0m\u001b[0;34m.\u001b[0m\u001b[0mshell\u001b[0m\u001b[0;34m.\u001b[0m\u001b[0msystem\u001b[0m \u001b[0;34m=\u001b[0m \u001b[0;32mlambda\u001b[0m \u001b[0mcode\u001b[0m\u001b[0;34m:\u001b[0m \u001b[0mself\u001b[0m\u001b[0;34m.\u001b[0m\u001b[0m_script_executor\u001b[0m\u001b[0;34m.\u001b[0m\u001b[0mexecute\u001b[0m\u001b[0;34m(\u001b[0m\u001b[0;34m\"bash\"\u001b[0m\u001b[0;34m,\u001b[0m \u001b[0mcode\u001b[0m\u001b[0;34m)\u001b[0m\u001b[0;34m\u001b[0m\u001b[0;34m\u001b[0m\u001b[0m\n\u001b[0m\u001b[1;32m    264\u001b[0m \u001b[0;34m\u001b[0m\u001b[0m\n\u001b[1;32m    265\u001b[0m     \u001b[0;32mdef\u001b[0m \u001b[0m_init_message_handlers\u001b[0m\u001b[0;34m(\u001b[0m\u001b[0mself\u001b[0m\u001b[0;34m)\u001b[0m\u001b[0;34m:\u001b[0m\u001b[0;34m\u001b[0m\u001b[0;34m\u001b[0m\u001b[0m\n",
      "\u001b[0;32m/kernel/lib/python3.7/site-packages/ml_kernel/script_executor.py\u001b[0m in \u001b[0;36mexecute\u001b[0;34m(self, lang, code)\u001b[0m\n\u001b[1;32m     33\u001b[0m         \u001b[0mreturn_code\u001b[0m \u001b[0;34m=\u001b[0m \u001b[0mself\u001b[0m\u001b[0;34m.\u001b[0m\u001b[0m_system\u001b[0m\u001b[0;34m(\u001b[0m\u001b[0mcode\u001b[0m\u001b[0;34m)\u001b[0m\u001b[0;34m\u001b[0m\u001b[0;34m\u001b[0m\u001b[0m\n\u001b[1;32m     34\u001b[0m         \u001b[0;32mif\u001b[0m \u001b[0mreturn_code\u001b[0m \u001b[0;34m!=\u001b[0m \u001b[0;36m0\u001b[0m\u001b[0;34m:\u001b[0m\u001b[0;34m\u001b[0m\u001b[0;34m\u001b[0m\u001b[0m\n\u001b[0;32m---> 35\u001b[0;31m             \u001b[0;32mraise\u001b[0m \u001b[0mException\u001b[0m\u001b[0;34m(\u001b[0m\u001b[0;34m'Process exited with code %d'\u001b[0m \u001b[0;34m%\u001b[0m \u001b[0mreturn_code\u001b[0m\u001b[0;34m)\u001b[0m\u001b[0;34m\u001b[0m\u001b[0;34m\u001b[0m\u001b[0m\n\u001b[0m",
      "\u001b[0;31mException\u001b[0m: Process exited with code 1"
     ]
    }
   ],
   "source": [
    "! mkdir ~/.kaggle\n",
    "! cp kaggle.json ~/.kaggle/\n",
    "! chmod 600 ~/.kaggle/kaggle.json"
   ]
  },
  {
   "cell_type": "code",
   "execution_count": 91,
   "metadata": {
    "cellId": "hni479dn5yht9mvbr176u",
    "colab": {
     "base_uri": "https://localhost:8080/"
    },
    "collapsed": true,
    "id": "rE1JOxVPzU0y",
    "jupyter": {
     "outputs_hidden": true
    },
    "outputId": "bd5fec82-7752-4fa7-97fc-439ea6fb7337"
   },
   "outputs": [
    {
     "name": "stdout",
     "output_type": "stream",
     "text": [
      "Warning: Your Kaggle API key is readable by other users on this system! To fix this, you can run 'chmod 600 /home/jupyter/work/resources/kaggle.json'\n",
      "movielens-20m-dataset.zip: Skipping, found more recently modified local copy (use --force to force download)\n"
     ]
    }
   ],
   "source": [
    "! kaggle datasets download -d grouplens/movielens-20m-dataset"
   ]
  },
  {
   "cell_type": "code",
   "execution_count": null,
   "metadata": {
    "cellId": "yh8vmugd0ae3i9osyu2ds",
    "colab": {
     "base_uri": "https://localhost:8080/"
    },
    "id": "Wu8SVQUiz54u",
    "outputId": "bbd27521-26e6-46bd-de0b-a0b4aafeec84"
   },
   "outputs": [],
   "source": [
    " ! unzip movielens-20m-dataset.zip -d dataset"
   ]
  },
  {
   "cell_type": "code",
   "execution_count": 396,
   "metadata": {
    "cellId": "tis7cnko1e70h4cqncwdm",
    "id": "WSSQ9JnB2MpJ"
   },
   "outputs": [],
   "source": [
    "import numpy as np\n",
    "import pandas as pd\n",
    "import scipy.sparse as sparse\n",
    "import scipy\n",
    "from tqdm import tqdm"
   ]
  },
  {
   "cell_type": "code",
   "execution_count": 246,
   "metadata": {
    "cellId": "vpotx7xgpr9856njtsj68l"
   },
   "outputs": [],
   "source": [
    "ratings = pd.read_csv('dataset/rating.csv')\n",
    "genomes = pd.read_csv('dataset/genome_tags.csv')\n",
    "movie_props = pd.read_csv('dataset/movie.csv')\n",
    "movie_genome = pd.read_csv('dataset/genome_scores.csv')"
   ]
  },
  {
   "cell_type": "code",
   "execution_count": 350,
   "metadata": {
    "cellId": "2beq5j96zdduys9i5zzs29",
    "id": "a8tBnR8A2Z3m"
   },
   "outputs": [],
   "source": [
    "users = ratings['userId'].unique() #list of all users\n",
    "movies = movie_props['movieId'].unique() #list of all movies"
   ]
  },
  {
   "cell_type": "markdown",
   "metadata": {
    "cellId": "6a0w8vtg9zntrim94nlth"
   },
   "source": [
    "# item_features preparation"
   ]
  },
  {
   "cell_type": "code",
   "execution_count": 136,
   "metadata": {
    "cellId": "pwfqx970aikx11me576dc8"
   },
   "outputs": [],
   "source": [
    "# Prepare table with tags relevance\n",
    "\n",
    "genomes_dict = {}\n",
    "genomes_dict['movieId'] = []"
   ]
  },
  {
   "cell_type": "code",
   "execution_count": 137,
   "metadata": {
    "cellId": "v90064idj8cb3u68s0vfw"
   },
   "outputs": [],
   "source": [
    "for i in range(len(movie_genome)):\n",
    "    sample = movie_genome.iloc[i]\n",
    "\n",
    "    if len(genomes_dict['movieId']) == 0 or genomes_dict['movieId'][-1] != sample.movieId:\n",
    "        genomes_dict['movieId'].append(int(sample.movieId))\n",
    "    \n",
    "    tag = f'Tag_{sample.tagId}'\n",
    "    if tag not in genomes_dict:\n",
    "        genomes_dict[tag] = []\n",
    "    \n",
    "    genomes_dict[tag].append(sample.relevance)"
   ]
  },
  {
   "cell_type": "code",
   "execution_count": 237,
   "metadata": {
    "cellId": "6xc915lfsuhekfpkxpm35j"
   },
   "outputs": [],
   "source": [
    "movie_tag_relevance = pd.DataFrame(genomes_dict)"
   ]
  },
  {
   "cell_type": "code",
   "execution_count": 238,
   "metadata": {
    "cellId": "94ha72bz47ig8li1r7dpwu"
   },
   "outputs": [
    {
     "data": {
      "text/html": [
       "<div>\n",
       "<style scoped>\n",
       "    .dataframe tbody tr th:only-of-type {\n",
       "        vertical-align: middle;\n",
       "    }\n",
       "\n",
       "    .dataframe tbody tr th {\n",
       "        vertical-align: top;\n",
       "    }\n",
       "\n",
       "    .dataframe thead th {\n",
       "        text-align: right;\n",
       "    }\n",
       "</style>\n",
       "<table border=\"1\" class=\"dataframe\">\n",
       "  <thead>\n",
       "    <tr style=\"text-align: right;\">\n",
       "      <th></th>\n",
       "      <th>movieId</th>\n",
       "      <th>Tag_1.0</th>\n",
       "      <th>Tag_2.0</th>\n",
       "      <th>Tag_3.0</th>\n",
       "      <th>Tag_4.0</th>\n",
       "      <th>Tag_5.0</th>\n",
       "      <th>Tag_6.0</th>\n",
       "      <th>Tag_7.0</th>\n",
       "      <th>Tag_8.0</th>\n",
       "      <th>Tag_9.0</th>\n",
       "      <th>...</th>\n",
       "      <th>Tag_1119.0</th>\n",
       "      <th>Tag_1120.0</th>\n",
       "      <th>Tag_1121.0</th>\n",
       "      <th>Tag_1122.0</th>\n",
       "      <th>Tag_1123.0</th>\n",
       "      <th>Tag_1124.0</th>\n",
       "      <th>Tag_1125.0</th>\n",
       "      <th>Tag_1126.0</th>\n",
       "      <th>Tag_1127.0</th>\n",
       "      <th>Tag_1128.0</th>\n",
       "    </tr>\n",
       "  </thead>\n",
       "  <tbody>\n",
       "    <tr>\n",
       "      <th>0</th>\n",
       "      <td>1</td>\n",
       "      <td>0.02500</td>\n",
       "      <td>0.02500</td>\n",
       "      <td>0.05775</td>\n",
       "      <td>0.09675</td>\n",
       "      <td>0.14675</td>\n",
       "      <td>0.21700</td>\n",
       "      <td>0.06700</td>\n",
       "      <td>0.26275</td>\n",
       "      <td>0.26200</td>\n",
       "      <td>...</td>\n",
       "      <td>0.03950</td>\n",
       "      <td>0.01800</td>\n",
       "      <td>0.04575</td>\n",
       "      <td>0.03275</td>\n",
       "      <td>0.12500</td>\n",
       "      <td>0.04150</td>\n",
       "      <td>0.01925</td>\n",
       "      <td>0.03625</td>\n",
       "      <td>0.07775</td>\n",
       "      <td>0.02300</td>\n",
       "    </tr>\n",
       "    <tr>\n",
       "      <th>1</th>\n",
       "      <td>2</td>\n",
       "      <td>0.03975</td>\n",
       "      <td>0.04375</td>\n",
       "      <td>0.03775</td>\n",
       "      <td>0.04800</td>\n",
       "      <td>0.11025</td>\n",
       "      <td>0.07250</td>\n",
       "      <td>0.04775</td>\n",
       "      <td>0.10975</td>\n",
       "      <td>0.09925</td>\n",
       "      <td>...</td>\n",
       "      <td>0.04175</td>\n",
       "      <td>0.01925</td>\n",
       "      <td>0.01725</td>\n",
       "      <td>0.02425</td>\n",
       "      <td>0.12550</td>\n",
       "      <td>0.02250</td>\n",
       "      <td>0.01550</td>\n",
       "      <td>0.01475</td>\n",
       "      <td>0.09025</td>\n",
       "      <td>0.01875</td>\n",
       "    </tr>\n",
       "    <tr>\n",
       "      <th>2</th>\n",
       "      <td>3</td>\n",
       "      <td>0.04350</td>\n",
       "      <td>0.05475</td>\n",
       "      <td>0.02800</td>\n",
       "      <td>0.07700</td>\n",
       "      <td>0.05400</td>\n",
       "      <td>0.06850</td>\n",
       "      <td>0.05600</td>\n",
       "      <td>0.18500</td>\n",
       "      <td>0.04925</td>\n",
       "      <td>...</td>\n",
       "      <td>0.04150</td>\n",
       "      <td>0.02675</td>\n",
       "      <td>0.02775</td>\n",
       "      <td>0.03425</td>\n",
       "      <td>0.15550</td>\n",
       "      <td>0.03675</td>\n",
       "      <td>0.01700</td>\n",
       "      <td>0.01950</td>\n",
       "      <td>0.09700</td>\n",
       "      <td>0.01850</td>\n",
       "    </tr>\n",
       "    <tr>\n",
       "      <th>3</th>\n",
       "      <td>4</td>\n",
       "      <td>0.03725</td>\n",
       "      <td>0.03950</td>\n",
       "      <td>0.03675</td>\n",
       "      <td>0.03100</td>\n",
       "      <td>0.06825</td>\n",
       "      <td>0.04050</td>\n",
       "      <td>0.02325</td>\n",
       "      <td>0.08700</td>\n",
       "      <td>0.05125</td>\n",
       "      <td>...</td>\n",
       "      <td>0.05750</td>\n",
       "      <td>0.03375</td>\n",
       "      <td>0.02275</td>\n",
       "      <td>0.03975</td>\n",
       "      <td>0.18525</td>\n",
       "      <td>0.05925</td>\n",
       "      <td>0.01500</td>\n",
       "      <td>0.01525</td>\n",
       "      <td>0.06450</td>\n",
       "      <td>0.01300</td>\n",
       "    </tr>\n",
       "    <tr>\n",
       "      <th>4</th>\n",
       "      <td>5</td>\n",
       "      <td>0.04200</td>\n",
       "      <td>0.05275</td>\n",
       "      <td>0.05925</td>\n",
       "      <td>0.03675</td>\n",
       "      <td>0.07525</td>\n",
       "      <td>0.12525</td>\n",
       "      <td>0.02850</td>\n",
       "      <td>0.08500</td>\n",
       "      <td>0.02950</td>\n",
       "      <td>...</td>\n",
       "      <td>0.04250</td>\n",
       "      <td>0.02825</td>\n",
       "      <td>0.02150</td>\n",
       "      <td>0.02600</td>\n",
       "      <td>0.14275</td>\n",
       "      <td>0.02075</td>\n",
       "      <td>0.01650</td>\n",
       "      <td>0.01675</td>\n",
       "      <td>0.10750</td>\n",
       "      <td>0.01825</td>\n",
       "    </tr>\n",
       "  </tbody>\n",
       "</table>\n",
       "<p>5 rows × 1129 columns</p>\n",
       "</div>"
      ],
      "text/plain": [
       "   movieId  Tag_1.0  Tag_2.0  Tag_3.0  Tag_4.0  Tag_5.0  Tag_6.0  Tag_7.0  \\\n",
       "0        1  0.02500  0.02500  0.05775  0.09675  0.14675  0.21700  0.06700   \n",
       "1        2  0.03975  0.04375  0.03775  0.04800  0.11025  0.07250  0.04775   \n",
       "2        3  0.04350  0.05475  0.02800  0.07700  0.05400  0.06850  0.05600   \n",
       "3        4  0.03725  0.03950  0.03675  0.03100  0.06825  0.04050  0.02325   \n",
       "4        5  0.04200  0.05275  0.05925  0.03675  0.07525  0.12525  0.02850   \n",
       "\n",
       "   Tag_8.0  Tag_9.0  ...  Tag_1119.0  Tag_1120.0  Tag_1121.0  Tag_1122.0  \\\n",
       "0  0.26275  0.26200  ...     0.03950     0.01800     0.04575     0.03275   \n",
       "1  0.10975  0.09925  ...     0.04175     0.01925     0.01725     0.02425   \n",
       "2  0.18500  0.04925  ...     0.04150     0.02675     0.02775     0.03425   \n",
       "3  0.08700  0.05125  ...     0.05750     0.03375     0.02275     0.03975   \n",
       "4  0.08500  0.02950  ...     0.04250     0.02825     0.02150     0.02600   \n",
       "\n",
       "   Tag_1123.0  Tag_1124.0  Tag_1125.0  Tag_1126.0  Tag_1127.0  Tag_1128.0  \n",
       "0     0.12500     0.04150     0.01925     0.03625     0.07775     0.02300  \n",
       "1     0.12550     0.02250     0.01550     0.01475     0.09025     0.01875  \n",
       "2     0.15550     0.03675     0.01700     0.01950     0.09700     0.01850  \n",
       "3     0.18525     0.05925     0.01500     0.01525     0.06450     0.01300  \n",
       "4     0.14275     0.02075     0.01650     0.01675     0.10750     0.01825  \n",
       "\n",
       "[5 rows x 1129 columns]"
      ]
     },
     "execution_count": 238,
     "metadata": {},
     "output_type": "execute_result"
    }
   ],
   "source": [
    "movie_tag_relevance.head()"
   ]
  },
  {
   "cell_type": "code",
   "execution_count": 239,
   "metadata": {
    "cellId": "841uk1rbxo2927tg8nj81g"
   },
   "outputs": [],
   "source": [
    "movie_tag_relevance.to_csv('movie_tag_relevance.csv')"
   ]
  },
  {
   "cell_type": "code",
   "execution_count": 248,
   "metadata": {
    "cellId": "ux4f5lacpb8p1eyty6yxzg"
   },
   "outputs": [
    {
     "data": {
      "text/html": [
       "<div>\n",
       "<style scoped>\n",
       "    .dataframe tbody tr th:only-of-type {\n",
       "        vertical-align: middle;\n",
       "    }\n",
       "\n",
       "    .dataframe tbody tr th {\n",
       "        vertical-align: top;\n",
       "    }\n",
       "\n",
       "    .dataframe thead th {\n",
       "        text-align: right;\n",
       "    }\n",
       "</style>\n",
       "<table border=\"1\" class=\"dataframe\">\n",
       "  <thead>\n",
       "    <tr style=\"text-align: right;\">\n",
       "      <th></th>\n",
       "      <th>movieId</th>\n",
       "      <th>title</th>\n",
       "      <th>genres</th>\n",
       "    </tr>\n",
       "  </thead>\n",
       "  <tbody>\n",
       "    <tr>\n",
       "      <th>0</th>\n",
       "      <td>1</td>\n",
       "      <td>Toy Story (1995)</td>\n",
       "      <td>Adventure|Animation|Children|Comedy|Fantasy</td>\n",
       "    </tr>\n",
       "    <tr>\n",
       "      <th>1</th>\n",
       "      <td>2</td>\n",
       "      <td>Jumanji (1995)</td>\n",
       "      <td>Adventure|Children|Fantasy</td>\n",
       "    </tr>\n",
       "    <tr>\n",
       "      <th>2</th>\n",
       "      <td>3</td>\n",
       "      <td>Grumpier Old Men (1995)</td>\n",
       "      <td>Comedy|Romance</td>\n",
       "    </tr>\n",
       "    <tr>\n",
       "      <th>3</th>\n",
       "      <td>4</td>\n",
       "      <td>Waiting to Exhale (1995)</td>\n",
       "      <td>Comedy|Drama|Romance</td>\n",
       "    </tr>\n",
       "    <tr>\n",
       "      <th>4</th>\n",
       "      <td>5</td>\n",
       "      <td>Father of the Bride Part II (1995)</td>\n",
       "      <td>Comedy</td>\n",
       "    </tr>\n",
       "  </tbody>\n",
       "</table>\n",
       "</div>"
      ],
      "text/plain": [
       "   movieId                               title  \\\n",
       "0        1                    Toy Story (1995)   \n",
       "1        2                      Jumanji (1995)   \n",
       "2        3             Grumpier Old Men (1995)   \n",
       "3        4            Waiting to Exhale (1995)   \n",
       "4        5  Father of the Bride Part II (1995)   \n",
       "\n",
       "                                        genres  \n",
       "0  Adventure|Animation|Children|Comedy|Fantasy  \n",
       "1                   Adventure|Children|Fantasy  \n",
       "2                               Comedy|Romance  \n",
       "3                         Comedy|Drama|Romance  \n",
       "4                                       Comedy  "
      ]
     },
     "execution_count": 248,
     "metadata": {},
     "output_type": "execute_result"
    }
   ],
   "source": [
    "# Prepare table with year and genres\n",
    "\n",
    "movie_props.head()"
   ]
  },
  {
   "cell_type": "code",
   "execution_count": 249,
   "metadata": {
    "cellId": "gvfhlnz7cz3ln77ahps4j"
   },
   "outputs": [],
   "source": [
    "MEDIAN_YEAR = 1998\n",
    "NO_GENRE = '(no genres listed)'"
   ]
  },
  {
   "cell_type": "code",
   "execution_count": 250,
   "metadata": {
    "cellId": "n2lp5r1zlvrm4lr4ckmt2n"
   },
   "outputs": [],
   "source": [
    "for m in movies:\n",
    "    if m not in movie_props.movieId.values:\n",
    "        print(m)\n",
    "        movie_props = movie_props.append({'movieId': m, 'title': f'({MEDIAN_YEAR})', 'genres': NO_GENRE}, ignore_index=True)"
   ]
  },
  {
   "cell_type": "code",
   "execution_count": 251,
   "metadata": {
    "cellId": "sosccpkwg6r4ui6vjli2i"
   },
   "outputs": [],
   "source": [
    "# Extract year from name\n",
    "\n",
    "def get_year(title):\n",
    "    try:\n",
    "        return int(title[-5:-1]) \n",
    "    except:\n",
    "        try:\n",
    "            return int(title[-6:-2])\n",
    "        except:\n",
    "            return 1998"
   ]
  },
  {
   "cell_type": "code",
   "execution_count": 252,
   "metadata": {
    "cellId": "gbax7vnukja61wm9glid6j"
   },
   "outputs": [],
   "source": [
    "years = movie_props.title.map(get_year)\n",
    "movie_props['year'] = years"
   ]
  },
  {
   "cell_type": "code",
   "execution_count": 253,
   "metadata": {
    "cellId": "34z37jjjudxv55hha1hhip"
   },
   "outputs": [
    {
     "data": {
      "text/html": [
       "<div>\n",
       "<style scoped>\n",
       "    .dataframe tbody tr th:only-of-type {\n",
       "        vertical-align: middle;\n",
       "    }\n",
       "\n",
       "    .dataframe tbody tr th {\n",
       "        vertical-align: top;\n",
       "    }\n",
       "\n",
       "    .dataframe thead th {\n",
       "        text-align: right;\n",
       "    }\n",
       "</style>\n",
       "<table border=\"1\" class=\"dataframe\">\n",
       "  <thead>\n",
       "    <tr style=\"text-align: right;\">\n",
       "      <th></th>\n",
       "      <th>movieId</th>\n",
       "      <th>title</th>\n",
       "      <th>genres</th>\n",
       "      <th>year</th>\n",
       "    </tr>\n",
       "  </thead>\n",
       "  <tbody>\n",
       "    <tr>\n",
       "      <th>0</th>\n",
       "      <td>1</td>\n",
       "      <td>Toy Story (1995)</td>\n",
       "      <td>Adventure|Animation|Children|Comedy|Fantasy</td>\n",
       "      <td>1995</td>\n",
       "    </tr>\n",
       "    <tr>\n",
       "      <th>1</th>\n",
       "      <td>2</td>\n",
       "      <td>Jumanji (1995)</td>\n",
       "      <td>Adventure|Children|Fantasy</td>\n",
       "      <td>1995</td>\n",
       "    </tr>\n",
       "    <tr>\n",
       "      <th>2</th>\n",
       "      <td>3</td>\n",
       "      <td>Grumpier Old Men (1995)</td>\n",
       "      <td>Comedy|Romance</td>\n",
       "      <td>1995</td>\n",
       "    </tr>\n",
       "    <tr>\n",
       "      <th>3</th>\n",
       "      <td>4</td>\n",
       "      <td>Waiting to Exhale (1995)</td>\n",
       "      <td>Comedy|Drama|Romance</td>\n",
       "      <td>1995</td>\n",
       "    </tr>\n",
       "    <tr>\n",
       "      <th>4</th>\n",
       "      <td>5</td>\n",
       "      <td>Father of the Bride Part II (1995)</td>\n",
       "      <td>Comedy</td>\n",
       "      <td>1995</td>\n",
       "    </tr>\n",
       "  </tbody>\n",
       "</table>\n",
       "</div>"
      ],
      "text/plain": [
       "   movieId                               title  \\\n",
       "0        1                    Toy Story (1995)   \n",
       "1        2                      Jumanji (1995)   \n",
       "2        3             Grumpier Old Men (1995)   \n",
       "3        4            Waiting to Exhale (1995)   \n",
       "4        5  Father of the Bride Part II (1995)   \n",
       "\n",
       "                                        genres  year  \n",
       "0  Adventure|Animation|Children|Comedy|Fantasy  1995  \n",
       "1                   Adventure|Children|Fantasy  1995  \n",
       "2                               Comedy|Romance  1995  \n",
       "3                         Comedy|Drama|Romance  1995  \n",
       "4                                       Comedy  1995  "
      ]
     },
     "execution_count": 253,
     "metadata": {},
     "output_type": "execute_result"
    }
   ],
   "source": [
    "movie_props.head()"
   ]
  },
  {
   "cell_type": "code",
   "execution_count": 254,
   "metadata": {
    "cellId": "ztjtpr0nhlp7we0fw5uxy"
   },
   "outputs": [],
   "source": [
    "# Split geners info\n",
    "\n",
    "geners = movie_props.genres.map(lambda x: x.split('|'))"
   ]
  },
  {
   "cell_type": "code",
   "execution_count": 255,
   "metadata": {
    "cellId": "nrjwvq8xrchdvolnvu6cl"
   },
   "outputs": [],
   "source": [
    "all_geners = []\n",
    "for gs in geners.values:\n",
    "    all_geners += gs\n",
    "all_geners = np.unique(all_geners)"
   ]
  },
  {
   "cell_type": "code",
   "execution_count": 256,
   "metadata": {
    "cellId": "45v0cgfxoees7nflh8s9p"
   },
   "outputs": [],
   "source": [
    "for g in all_geners:\n",
    "    movie_props[g] = 0"
   ]
  },
  {
   "cell_type": "code",
   "execution_count": 257,
   "metadata": {
    "cellId": "odt43e37gxaq2lclbgai2q"
   },
   "outputs": [],
   "source": [
    "for i, gs in enumerate(geners.values):\n",
    "    for g in all_geners:\n",
    "        if g in gs:\n",
    "            movie_props.at[i, g] = 1"
   ]
  },
  {
   "cell_type": "code",
   "execution_count": 258,
   "metadata": {
    "cellId": "1wew7a8tunp4p9pca2vms7"
   },
   "outputs": [
    {
     "data": {
      "text/html": [
       "<div>\n",
       "<style scoped>\n",
       "    .dataframe tbody tr th:only-of-type {\n",
       "        vertical-align: middle;\n",
       "    }\n",
       "\n",
       "    .dataframe tbody tr th {\n",
       "        vertical-align: top;\n",
       "    }\n",
       "\n",
       "    .dataframe thead th {\n",
       "        text-align: right;\n",
       "    }\n",
       "</style>\n",
       "<table border=\"1\" class=\"dataframe\">\n",
       "  <thead>\n",
       "    <tr style=\"text-align: right;\">\n",
       "      <th></th>\n",
       "      <th>movieId</th>\n",
       "      <th>title</th>\n",
       "      <th>genres</th>\n",
       "      <th>year</th>\n",
       "      <th>(no genres listed)</th>\n",
       "      <th>Action</th>\n",
       "      <th>Adventure</th>\n",
       "      <th>Animation</th>\n",
       "      <th>Children</th>\n",
       "      <th>Comedy</th>\n",
       "      <th>...</th>\n",
       "      <th>Film-Noir</th>\n",
       "      <th>Horror</th>\n",
       "      <th>IMAX</th>\n",
       "      <th>Musical</th>\n",
       "      <th>Mystery</th>\n",
       "      <th>Romance</th>\n",
       "      <th>Sci-Fi</th>\n",
       "      <th>Thriller</th>\n",
       "      <th>War</th>\n",
       "      <th>Western</th>\n",
       "    </tr>\n",
       "  </thead>\n",
       "  <tbody>\n",
       "    <tr>\n",
       "      <th>0</th>\n",
       "      <td>1</td>\n",
       "      <td>Toy Story (1995)</td>\n",
       "      <td>Adventure|Animation|Children|Comedy|Fantasy</td>\n",
       "      <td>1995</td>\n",
       "      <td>0</td>\n",
       "      <td>0</td>\n",
       "      <td>0</td>\n",
       "      <td>0</td>\n",
       "      <td>0</td>\n",
       "      <td>0</td>\n",
       "      <td>...</td>\n",
       "      <td>0</td>\n",
       "      <td>0</td>\n",
       "      <td>0</td>\n",
       "      <td>0</td>\n",
       "      <td>0</td>\n",
       "      <td>0</td>\n",
       "      <td>0</td>\n",
       "      <td>0</td>\n",
       "      <td>0</td>\n",
       "      <td>0</td>\n",
       "    </tr>\n",
       "    <tr>\n",
       "      <th>1</th>\n",
       "      <td>2</td>\n",
       "      <td>Jumanji (1995)</td>\n",
       "      <td>Adventure|Children|Fantasy</td>\n",
       "      <td>1995</td>\n",
       "      <td>0</td>\n",
       "      <td>0</td>\n",
       "      <td>0</td>\n",
       "      <td>0</td>\n",
       "      <td>0</td>\n",
       "      <td>0</td>\n",
       "      <td>...</td>\n",
       "      <td>0</td>\n",
       "      <td>0</td>\n",
       "      <td>0</td>\n",
       "      <td>0</td>\n",
       "      <td>0</td>\n",
       "      <td>0</td>\n",
       "      <td>0</td>\n",
       "      <td>0</td>\n",
       "      <td>0</td>\n",
       "      <td>0</td>\n",
       "    </tr>\n",
       "    <tr>\n",
       "      <th>2</th>\n",
       "      <td>3</td>\n",
       "      <td>Grumpier Old Men (1995)</td>\n",
       "      <td>Comedy|Romance</td>\n",
       "      <td>1995</td>\n",
       "      <td>0</td>\n",
       "      <td>0</td>\n",
       "      <td>0</td>\n",
       "      <td>0</td>\n",
       "      <td>0</td>\n",
       "      <td>0</td>\n",
       "      <td>...</td>\n",
       "      <td>0</td>\n",
       "      <td>0</td>\n",
       "      <td>0</td>\n",
       "      <td>0</td>\n",
       "      <td>0</td>\n",
       "      <td>0</td>\n",
       "      <td>0</td>\n",
       "      <td>0</td>\n",
       "      <td>0</td>\n",
       "      <td>0</td>\n",
       "    </tr>\n",
       "    <tr>\n",
       "      <th>3</th>\n",
       "      <td>4</td>\n",
       "      <td>Waiting to Exhale (1995)</td>\n",
       "      <td>Comedy|Drama|Romance</td>\n",
       "      <td>1995</td>\n",
       "      <td>0</td>\n",
       "      <td>0</td>\n",
       "      <td>0</td>\n",
       "      <td>0</td>\n",
       "      <td>0</td>\n",
       "      <td>0</td>\n",
       "      <td>...</td>\n",
       "      <td>0</td>\n",
       "      <td>0</td>\n",
       "      <td>0</td>\n",
       "      <td>0</td>\n",
       "      <td>0</td>\n",
       "      <td>0</td>\n",
       "      <td>0</td>\n",
       "      <td>0</td>\n",
       "      <td>0</td>\n",
       "      <td>0</td>\n",
       "    </tr>\n",
       "    <tr>\n",
       "      <th>4</th>\n",
       "      <td>5</td>\n",
       "      <td>Father of the Bride Part II (1995)</td>\n",
       "      <td>Comedy</td>\n",
       "      <td>1995</td>\n",
       "      <td>0</td>\n",
       "      <td>0</td>\n",
       "      <td>0</td>\n",
       "      <td>0</td>\n",
       "      <td>0</td>\n",
       "      <td>0</td>\n",
       "      <td>...</td>\n",
       "      <td>0</td>\n",
       "      <td>0</td>\n",
       "      <td>0</td>\n",
       "      <td>0</td>\n",
       "      <td>0</td>\n",
       "      <td>0</td>\n",
       "      <td>0</td>\n",
       "      <td>0</td>\n",
       "      <td>0</td>\n",
       "      <td>0</td>\n",
       "    </tr>\n",
       "  </tbody>\n",
       "</table>\n",
       "<p>5 rows × 24 columns</p>\n",
       "</div>"
      ],
      "text/plain": [
       "   movieId                               title  \\\n",
       "0        1                    Toy Story (1995)   \n",
       "1        2                      Jumanji (1995)   \n",
       "2        3             Grumpier Old Men (1995)   \n",
       "3        4            Waiting to Exhale (1995)   \n",
       "4        5  Father of the Bride Part II (1995)   \n",
       "\n",
       "                                        genres  year  (no genres listed)  \\\n",
       "0  Adventure|Animation|Children|Comedy|Fantasy  1995                   0   \n",
       "1                   Adventure|Children|Fantasy  1995                   0   \n",
       "2                               Comedy|Romance  1995                   0   \n",
       "3                         Comedy|Drama|Romance  1995                   0   \n",
       "4                                       Comedy  1995                   0   \n",
       "\n",
       "   Action  Adventure  Animation  Children  Comedy  ...  Film-Noir  Horror  \\\n",
       "0       0          0          0         0       0  ...          0       0   \n",
       "1       0          0          0         0       0  ...          0       0   \n",
       "2       0          0          0         0       0  ...          0       0   \n",
       "3       0          0          0         0       0  ...          0       0   \n",
       "4       0          0          0         0       0  ...          0       0   \n",
       "\n",
       "   IMAX  Musical  Mystery  Romance  Sci-Fi  Thriller  War  Western  \n",
       "0     0        0        0        0       0         0    0        0  \n",
       "1     0        0        0        0       0         0    0        0  \n",
       "2     0        0        0        0       0         0    0        0  \n",
       "3     0        0        0        0       0         0    0        0  \n",
       "4     0        0        0        0       0         0    0        0  \n",
       "\n",
       "[5 rows x 24 columns]"
      ]
     },
     "execution_count": 258,
     "metadata": {},
     "output_type": "execute_result"
    }
   ],
   "source": [
    "movie_props.head()"
   ]
  },
  {
   "cell_type": "code",
   "execution_count": 378,
   "metadata": {
    "cellId": "2sefrxai5b6kb7yp2ksal"
   },
   "outputs": [
    {
     "data": {
      "text/plain": [
       "(27278, 22)"
      ]
     },
     "execution_count": 378,
     "metadata": {},
     "output_type": "execute_result"
    }
   ],
   "source": [
    "movie_props.shape"
   ]
  },
  {
   "cell_type": "code",
   "execution_count": 259,
   "metadata": {
    "cellId": "3pzssp0ir3x0wdnsqphhlma"
   },
   "outputs": [],
   "source": [
    "movie_props = movie_props.drop(['title', 'genres'], axis=1)"
   ]
  },
  {
   "cell_type": "code",
   "execution_count": null,
   "metadata": {
    "cellId": "g55hleopo2i644xi5mnqe"
   },
   "outputs": [],
   "source": [
    "# Join all info about movie"
   ]
  },
  {
   "cell_type": "code",
   "execution_count": 264,
   "metadata": {
    "cellId": "gihbehr3t3iup84fe62hfp"
   },
   "outputs": [],
   "source": [
    "merged_data = pd.merge(movie_props, movie_tag_relevance, on='movieId',how='outer')"
   ]
  },
  {
   "cell_type": "code",
   "execution_count": 265,
   "metadata": {
    "cellId": "x5qjkx5aplhycsysq4l8m"
   },
   "outputs": [],
   "source": [
    "cols = merged_data.columns.tolist()\n",
    "for c in cols:\n",
    "    merged_data[c].fillna(merged_data[c].median(), inplace=True)"
   ]
  },
  {
   "cell_type": "code",
   "execution_count": 266,
   "metadata": {
    "cellId": "pxu4vsxms3clisk2fq1u6h"
   },
   "outputs": [],
   "source": [
    "# merged_data = merged_data.drop(['movieId'], axis=1)"
   ]
  },
  {
   "cell_type": "code",
   "execution_count": 267,
   "metadata": {
    "cellId": "qub9j5tbmr950eoj9hgzp8"
   },
   "outputs": [
    {
     "data": {
      "text/html": [
       "<div>\n",
       "<style scoped>\n",
       "    .dataframe tbody tr th:only-of-type {\n",
       "        vertical-align: middle;\n",
       "    }\n",
       "\n",
       "    .dataframe tbody tr th {\n",
       "        vertical-align: top;\n",
       "    }\n",
       "\n",
       "    .dataframe thead th {\n",
       "        text-align: right;\n",
       "    }\n",
       "</style>\n",
       "<table border=\"1\" class=\"dataframe\">\n",
       "  <thead>\n",
       "    <tr style=\"text-align: right;\">\n",
       "      <th></th>\n",
       "      <th>movieId</th>\n",
       "      <th>year</th>\n",
       "      <th>(no genres listed)</th>\n",
       "      <th>Action</th>\n",
       "      <th>Adventure</th>\n",
       "      <th>Animation</th>\n",
       "      <th>Children</th>\n",
       "      <th>Comedy</th>\n",
       "      <th>Crime</th>\n",
       "      <th>Documentary</th>\n",
       "      <th>...</th>\n",
       "      <th>Tag_1119.0</th>\n",
       "      <th>Tag_1120.0</th>\n",
       "      <th>Tag_1121.0</th>\n",
       "      <th>Tag_1122.0</th>\n",
       "      <th>Tag_1123.0</th>\n",
       "      <th>Tag_1124.0</th>\n",
       "      <th>Tag_1125.0</th>\n",
       "      <th>Tag_1126.0</th>\n",
       "      <th>Tag_1127.0</th>\n",
       "      <th>Tag_1128.0</th>\n",
       "    </tr>\n",
       "  </thead>\n",
       "  <tbody>\n",
       "    <tr>\n",
       "      <th>0</th>\n",
       "      <td>1</td>\n",
       "      <td>1995</td>\n",
       "      <td>0</td>\n",
       "      <td>0</td>\n",
       "      <td>0</td>\n",
       "      <td>0</td>\n",
       "      <td>0</td>\n",
       "      <td>0</td>\n",
       "      <td>0</td>\n",
       "      <td>0</td>\n",
       "      <td>...</td>\n",
       "      <td>0.03950</td>\n",
       "      <td>0.01800</td>\n",
       "      <td>0.04575</td>\n",
       "      <td>0.03275</td>\n",
       "      <td>0.12500</td>\n",
       "      <td>0.04150</td>\n",
       "      <td>0.01925</td>\n",
       "      <td>0.03625</td>\n",
       "      <td>0.07775</td>\n",
       "      <td>0.02300</td>\n",
       "    </tr>\n",
       "    <tr>\n",
       "      <th>1</th>\n",
       "      <td>2</td>\n",
       "      <td>1995</td>\n",
       "      <td>0</td>\n",
       "      <td>0</td>\n",
       "      <td>0</td>\n",
       "      <td>0</td>\n",
       "      <td>0</td>\n",
       "      <td>0</td>\n",
       "      <td>0</td>\n",
       "      <td>0</td>\n",
       "      <td>...</td>\n",
       "      <td>0.04175</td>\n",
       "      <td>0.01925</td>\n",
       "      <td>0.01725</td>\n",
       "      <td>0.02425</td>\n",
       "      <td>0.12550</td>\n",
       "      <td>0.02250</td>\n",
       "      <td>0.01550</td>\n",
       "      <td>0.01475</td>\n",
       "      <td>0.09025</td>\n",
       "      <td>0.01875</td>\n",
       "    </tr>\n",
       "    <tr>\n",
       "      <th>2</th>\n",
       "      <td>3</td>\n",
       "      <td>1995</td>\n",
       "      <td>0</td>\n",
       "      <td>0</td>\n",
       "      <td>0</td>\n",
       "      <td>0</td>\n",
       "      <td>0</td>\n",
       "      <td>0</td>\n",
       "      <td>0</td>\n",
       "      <td>0</td>\n",
       "      <td>...</td>\n",
       "      <td>0.04150</td>\n",
       "      <td>0.02675</td>\n",
       "      <td>0.02775</td>\n",
       "      <td>0.03425</td>\n",
       "      <td>0.15550</td>\n",
       "      <td>0.03675</td>\n",
       "      <td>0.01700</td>\n",
       "      <td>0.01950</td>\n",
       "      <td>0.09700</td>\n",
       "      <td>0.01850</td>\n",
       "    </tr>\n",
       "    <tr>\n",
       "      <th>3</th>\n",
       "      <td>4</td>\n",
       "      <td>1995</td>\n",
       "      <td>0</td>\n",
       "      <td>0</td>\n",
       "      <td>0</td>\n",
       "      <td>0</td>\n",
       "      <td>0</td>\n",
       "      <td>0</td>\n",
       "      <td>0</td>\n",
       "      <td>0</td>\n",
       "      <td>...</td>\n",
       "      <td>0.05750</td>\n",
       "      <td>0.03375</td>\n",
       "      <td>0.02275</td>\n",
       "      <td>0.03975</td>\n",
       "      <td>0.18525</td>\n",
       "      <td>0.05925</td>\n",
       "      <td>0.01500</td>\n",
       "      <td>0.01525</td>\n",
       "      <td>0.06450</td>\n",
       "      <td>0.01300</td>\n",
       "    </tr>\n",
       "    <tr>\n",
       "      <th>4</th>\n",
       "      <td>5</td>\n",
       "      <td>1995</td>\n",
       "      <td>0</td>\n",
       "      <td>0</td>\n",
       "      <td>0</td>\n",
       "      <td>0</td>\n",
       "      <td>0</td>\n",
       "      <td>0</td>\n",
       "      <td>0</td>\n",
       "      <td>0</td>\n",
       "      <td>...</td>\n",
       "      <td>0.04250</td>\n",
       "      <td>0.02825</td>\n",
       "      <td>0.02150</td>\n",
       "      <td>0.02600</td>\n",
       "      <td>0.14275</td>\n",
       "      <td>0.02075</td>\n",
       "      <td>0.01650</td>\n",
       "      <td>0.01675</td>\n",
       "      <td>0.10750</td>\n",
       "      <td>0.01825</td>\n",
       "    </tr>\n",
       "  </tbody>\n",
       "</table>\n",
       "<p>5 rows × 1150 columns</p>\n",
       "</div>"
      ],
      "text/plain": [
       "   movieId  year  (no genres listed)  Action  Adventure  Animation  Children  \\\n",
       "0        1  1995                   0       0          0          0         0   \n",
       "1        2  1995                   0       0          0          0         0   \n",
       "2        3  1995                   0       0          0          0         0   \n",
       "3        4  1995                   0       0          0          0         0   \n",
       "4        5  1995                   0       0          0          0         0   \n",
       "\n",
       "   Comedy  Crime  Documentary  ...  Tag_1119.0  Tag_1120.0  Tag_1121.0  \\\n",
       "0       0      0            0  ...     0.03950     0.01800     0.04575   \n",
       "1       0      0            0  ...     0.04175     0.01925     0.01725   \n",
       "2       0      0            0  ...     0.04150     0.02675     0.02775   \n",
       "3       0      0            0  ...     0.05750     0.03375     0.02275   \n",
       "4       0      0            0  ...     0.04250     0.02825     0.02150   \n",
       "\n",
       "   Tag_1122.0  Tag_1123.0  Tag_1124.0  Tag_1125.0  Tag_1126.0  Tag_1127.0  \\\n",
       "0     0.03275     0.12500     0.04150     0.01925     0.03625     0.07775   \n",
       "1     0.02425     0.12550     0.02250     0.01550     0.01475     0.09025   \n",
       "2     0.03425     0.15550     0.03675     0.01700     0.01950     0.09700   \n",
       "3     0.03975     0.18525     0.05925     0.01500     0.01525     0.06450   \n",
       "4     0.02600     0.14275     0.02075     0.01650     0.01675     0.10750   \n",
       "\n",
       "   Tag_1128.0  \n",
       "0     0.02300  \n",
       "1     0.01875  \n",
       "2     0.01850  \n",
       "3     0.01300  \n",
       "4     0.01825  \n",
       "\n",
       "[5 rows x 1150 columns]"
      ]
     },
     "execution_count": 267,
     "metadata": {},
     "output_type": "execute_result"
    }
   ],
   "source": [
    "merged_data.head()"
   ]
  },
  {
   "cell_type": "code",
   "execution_count": 379,
   "metadata": {
    "cellId": "z3q710zvpe9hu84ph631kk"
   },
   "outputs": [
    {
     "data": {
      "text/plain": [
       "(27278, 1150)"
      ]
     },
     "execution_count": 379,
     "metadata": {},
     "output_type": "execute_result"
    }
   ],
   "source": [
    "merged_data.shape"
   ]
  },
  {
   "cell_type": "code",
   "execution_count": 380,
   "metadata": {
    "cellId": "cswpl310wf8gmc3jzn8w5"
   },
   "outputs": [],
   "source": [
    "# Along with the tag information, it works too slowly, so then I used only the genres and the year of release of the film\n",
    "merged_data = movie_props"
   ]
  },
  {
   "cell_type": "code",
   "execution_count": 381,
   "metadata": {
    "cellId": "ywchdlmhesa4ysm3munn3c"
   },
   "outputs": [
    {
     "data": {
      "text/html": [
       "<div>\n",
       "<style scoped>\n",
       "    .dataframe tbody tr th:only-of-type {\n",
       "        vertical-align: middle;\n",
       "    }\n",
       "\n",
       "    .dataframe tbody tr th {\n",
       "        vertical-align: top;\n",
       "    }\n",
       "\n",
       "    .dataframe thead th {\n",
       "        text-align: right;\n",
       "    }\n",
       "</style>\n",
       "<table border=\"1\" class=\"dataframe\">\n",
       "  <thead>\n",
       "    <tr style=\"text-align: right;\">\n",
       "      <th></th>\n",
       "      <th>movieId</th>\n",
       "      <th>year</th>\n",
       "      <th>(no genres listed)</th>\n",
       "      <th>Action</th>\n",
       "      <th>Adventure</th>\n",
       "      <th>Animation</th>\n",
       "      <th>Children</th>\n",
       "      <th>Comedy</th>\n",
       "      <th>Crime</th>\n",
       "      <th>Documentary</th>\n",
       "      <th>...</th>\n",
       "      <th>Film-Noir</th>\n",
       "      <th>Horror</th>\n",
       "      <th>IMAX</th>\n",
       "      <th>Musical</th>\n",
       "      <th>Mystery</th>\n",
       "      <th>Romance</th>\n",
       "      <th>Sci-Fi</th>\n",
       "      <th>Thriller</th>\n",
       "      <th>War</th>\n",
       "      <th>Western</th>\n",
       "    </tr>\n",
       "  </thead>\n",
       "  <tbody>\n",
       "    <tr>\n",
       "      <th>0</th>\n",
       "      <td>1</td>\n",
       "      <td>1995</td>\n",
       "      <td>0</td>\n",
       "      <td>0</td>\n",
       "      <td>0</td>\n",
       "      <td>0</td>\n",
       "      <td>0</td>\n",
       "      <td>0</td>\n",
       "      <td>0</td>\n",
       "      <td>0</td>\n",
       "      <td>...</td>\n",
       "      <td>0</td>\n",
       "      <td>0</td>\n",
       "      <td>0</td>\n",
       "      <td>0</td>\n",
       "      <td>0</td>\n",
       "      <td>0</td>\n",
       "      <td>0</td>\n",
       "      <td>0</td>\n",
       "      <td>0</td>\n",
       "      <td>0</td>\n",
       "    </tr>\n",
       "    <tr>\n",
       "      <th>1</th>\n",
       "      <td>2</td>\n",
       "      <td>1995</td>\n",
       "      <td>0</td>\n",
       "      <td>0</td>\n",
       "      <td>0</td>\n",
       "      <td>0</td>\n",
       "      <td>0</td>\n",
       "      <td>0</td>\n",
       "      <td>0</td>\n",
       "      <td>0</td>\n",
       "      <td>...</td>\n",
       "      <td>0</td>\n",
       "      <td>0</td>\n",
       "      <td>0</td>\n",
       "      <td>0</td>\n",
       "      <td>0</td>\n",
       "      <td>0</td>\n",
       "      <td>0</td>\n",
       "      <td>0</td>\n",
       "      <td>0</td>\n",
       "      <td>0</td>\n",
       "    </tr>\n",
       "    <tr>\n",
       "      <th>2</th>\n",
       "      <td>3</td>\n",
       "      <td>1995</td>\n",
       "      <td>0</td>\n",
       "      <td>0</td>\n",
       "      <td>0</td>\n",
       "      <td>0</td>\n",
       "      <td>0</td>\n",
       "      <td>0</td>\n",
       "      <td>0</td>\n",
       "      <td>0</td>\n",
       "      <td>...</td>\n",
       "      <td>0</td>\n",
       "      <td>0</td>\n",
       "      <td>0</td>\n",
       "      <td>0</td>\n",
       "      <td>0</td>\n",
       "      <td>0</td>\n",
       "      <td>0</td>\n",
       "      <td>0</td>\n",
       "      <td>0</td>\n",
       "      <td>0</td>\n",
       "    </tr>\n",
       "    <tr>\n",
       "      <th>3</th>\n",
       "      <td>4</td>\n",
       "      <td>1995</td>\n",
       "      <td>0</td>\n",
       "      <td>0</td>\n",
       "      <td>0</td>\n",
       "      <td>0</td>\n",
       "      <td>0</td>\n",
       "      <td>0</td>\n",
       "      <td>0</td>\n",
       "      <td>0</td>\n",
       "      <td>...</td>\n",
       "      <td>0</td>\n",
       "      <td>0</td>\n",
       "      <td>0</td>\n",
       "      <td>0</td>\n",
       "      <td>0</td>\n",
       "      <td>0</td>\n",
       "      <td>0</td>\n",
       "      <td>0</td>\n",
       "      <td>0</td>\n",
       "      <td>0</td>\n",
       "    </tr>\n",
       "    <tr>\n",
       "      <th>4</th>\n",
       "      <td>5</td>\n",
       "      <td>1995</td>\n",
       "      <td>0</td>\n",
       "      <td>0</td>\n",
       "      <td>0</td>\n",
       "      <td>0</td>\n",
       "      <td>0</td>\n",
       "      <td>0</td>\n",
       "      <td>0</td>\n",
       "      <td>0</td>\n",
       "      <td>...</td>\n",
       "      <td>0</td>\n",
       "      <td>0</td>\n",
       "      <td>0</td>\n",
       "      <td>0</td>\n",
       "      <td>0</td>\n",
       "      <td>0</td>\n",
       "      <td>0</td>\n",
       "      <td>0</td>\n",
       "      <td>0</td>\n",
       "      <td>0</td>\n",
       "    </tr>\n",
       "    <tr>\n",
       "      <th>...</th>\n",
       "      <td>...</td>\n",
       "      <td>...</td>\n",
       "      <td>...</td>\n",
       "      <td>...</td>\n",
       "      <td>...</td>\n",
       "      <td>...</td>\n",
       "      <td>...</td>\n",
       "      <td>...</td>\n",
       "      <td>...</td>\n",
       "      <td>...</td>\n",
       "      <td>...</td>\n",
       "      <td>...</td>\n",
       "      <td>...</td>\n",
       "      <td>...</td>\n",
       "      <td>...</td>\n",
       "      <td>...</td>\n",
       "      <td>...</td>\n",
       "      <td>...</td>\n",
       "      <td>...</td>\n",
       "      <td>...</td>\n",
       "      <td>...</td>\n",
       "    </tr>\n",
       "    <tr>\n",
       "      <th>27273</th>\n",
       "      <td>131254</td>\n",
       "      <td>2007</td>\n",
       "      <td>0</td>\n",
       "      <td>0</td>\n",
       "      <td>0</td>\n",
       "      <td>0</td>\n",
       "      <td>0</td>\n",
       "      <td>0</td>\n",
       "      <td>0</td>\n",
       "      <td>0</td>\n",
       "      <td>...</td>\n",
       "      <td>0</td>\n",
       "      <td>0</td>\n",
       "      <td>0</td>\n",
       "      <td>0</td>\n",
       "      <td>0</td>\n",
       "      <td>0</td>\n",
       "      <td>0</td>\n",
       "      <td>0</td>\n",
       "      <td>0</td>\n",
       "      <td>0</td>\n",
       "    </tr>\n",
       "    <tr>\n",
       "      <th>27274</th>\n",
       "      <td>131256</td>\n",
       "      <td>2002</td>\n",
       "      <td>0</td>\n",
       "      <td>0</td>\n",
       "      <td>0</td>\n",
       "      <td>0</td>\n",
       "      <td>0</td>\n",
       "      <td>0</td>\n",
       "      <td>0</td>\n",
       "      <td>0</td>\n",
       "      <td>...</td>\n",
       "      <td>0</td>\n",
       "      <td>0</td>\n",
       "      <td>0</td>\n",
       "      <td>0</td>\n",
       "      <td>0</td>\n",
       "      <td>0</td>\n",
       "      <td>0</td>\n",
       "      <td>0</td>\n",
       "      <td>0</td>\n",
       "      <td>0</td>\n",
       "    </tr>\n",
       "    <tr>\n",
       "      <th>27275</th>\n",
       "      <td>131258</td>\n",
       "      <td>2014</td>\n",
       "      <td>0</td>\n",
       "      <td>0</td>\n",
       "      <td>0</td>\n",
       "      <td>0</td>\n",
       "      <td>0</td>\n",
       "      <td>0</td>\n",
       "      <td>0</td>\n",
       "      <td>0</td>\n",
       "      <td>...</td>\n",
       "      <td>0</td>\n",
       "      <td>0</td>\n",
       "      <td>0</td>\n",
       "      <td>0</td>\n",
       "      <td>0</td>\n",
       "      <td>0</td>\n",
       "      <td>0</td>\n",
       "      <td>0</td>\n",
       "      <td>0</td>\n",
       "      <td>0</td>\n",
       "    </tr>\n",
       "    <tr>\n",
       "      <th>27276</th>\n",
       "      <td>131260</td>\n",
       "      <td>2001</td>\n",
       "      <td>0</td>\n",
       "      <td>0</td>\n",
       "      <td>0</td>\n",
       "      <td>0</td>\n",
       "      <td>0</td>\n",
       "      <td>0</td>\n",
       "      <td>0</td>\n",
       "      <td>0</td>\n",
       "      <td>...</td>\n",
       "      <td>0</td>\n",
       "      <td>0</td>\n",
       "      <td>0</td>\n",
       "      <td>0</td>\n",
       "      <td>0</td>\n",
       "      <td>0</td>\n",
       "      <td>0</td>\n",
       "      <td>0</td>\n",
       "      <td>0</td>\n",
       "      <td>0</td>\n",
       "    </tr>\n",
       "    <tr>\n",
       "      <th>27277</th>\n",
       "      <td>131262</td>\n",
       "      <td>2014</td>\n",
       "      <td>0</td>\n",
       "      <td>0</td>\n",
       "      <td>0</td>\n",
       "      <td>0</td>\n",
       "      <td>0</td>\n",
       "      <td>0</td>\n",
       "      <td>0</td>\n",
       "      <td>0</td>\n",
       "      <td>...</td>\n",
       "      <td>0</td>\n",
       "      <td>0</td>\n",
       "      <td>0</td>\n",
       "      <td>0</td>\n",
       "      <td>0</td>\n",
       "      <td>0</td>\n",
       "      <td>0</td>\n",
       "      <td>0</td>\n",
       "      <td>0</td>\n",
       "      <td>0</td>\n",
       "    </tr>\n",
       "  </tbody>\n",
       "</table>\n",
       "<p>27278 rows × 22 columns</p>\n",
       "</div>"
      ],
      "text/plain": [
       "       movieId  year  (no genres listed)  Action  Adventure  Animation  \\\n",
       "0            1  1995                   0       0          0          0   \n",
       "1            2  1995                   0       0          0          0   \n",
       "2            3  1995                   0       0          0          0   \n",
       "3            4  1995                   0       0          0          0   \n",
       "4            5  1995                   0       0          0          0   \n",
       "...        ...   ...                 ...     ...        ...        ...   \n",
       "27273   131254  2007                   0       0          0          0   \n",
       "27274   131256  2002                   0       0          0          0   \n",
       "27275   131258  2014                   0       0          0          0   \n",
       "27276   131260  2001                   0       0          0          0   \n",
       "27277   131262  2014                   0       0          0          0   \n",
       "\n",
       "       Children  Comedy  Crime  Documentary  ...  Film-Noir  Horror  IMAX  \\\n",
       "0             0       0      0            0  ...          0       0     0   \n",
       "1             0       0      0            0  ...          0       0     0   \n",
       "2             0       0      0            0  ...          0       0     0   \n",
       "3             0       0      0            0  ...          0       0     0   \n",
       "4             0       0      0            0  ...          0       0     0   \n",
       "...         ...     ...    ...          ...  ...        ...     ...   ...   \n",
       "27273         0       0      0            0  ...          0       0     0   \n",
       "27274         0       0      0            0  ...          0       0     0   \n",
       "27275         0       0      0            0  ...          0       0     0   \n",
       "27276         0       0      0            0  ...          0       0     0   \n",
       "27277         0       0      0            0  ...          0       0     0   \n",
       "\n",
       "       Musical  Mystery  Romance  Sci-Fi  Thriller  War  Western  \n",
       "0            0        0        0       0         0    0        0  \n",
       "1            0        0        0       0         0    0        0  \n",
       "2            0        0        0       0         0    0        0  \n",
       "3            0        0        0       0         0    0        0  \n",
       "4            0        0        0       0         0    0        0  \n",
       "...        ...      ...      ...     ...       ...  ...      ...  \n",
       "27273        0        0        0       0         0    0        0  \n",
       "27274        0        0        0       0         0    0        0  \n",
       "27275        0        0        0       0         0    0        0  \n",
       "27276        0        0        0       0         0    0        0  \n",
       "27277        0        0        0       0         0    0        0  \n",
       "\n",
       "[27278 rows x 22 columns]"
      ]
     },
     "execution_count": 381,
     "metadata": {},
     "output_type": "execute_result"
    }
   ],
   "source": [
    "merged_data"
   ]
  },
  {
   "cell_type": "code",
   "execution_count": 382,
   "metadata": {
    "cellId": "5xzy7d59brdpj9be8aobj8"
   },
   "outputs": [],
   "source": [
    "merged_data.to_csv('item_features.csv')"
   ]
  },
  {
   "cell_type": "markdown",
   "metadata": {
    "cellId": "mlxmms0lqeor3p71zhybc"
   },
   "source": [
    "# LightFM"
   ]
  },
  {
   "cell_type": "code",
   "execution_count": 104,
   "metadata": {
    "cellId": "cqa6u0vkxnr47flgwl3syr",
    "id": "QYN3L1Qc-FE1"
   },
   "outputs": [],
   "source": [
    "from lightfm.cross_validation import random_train_test_split\n",
    "from lightfm.evaluation import auc_score, precision_at_k, recall_at_k\n",
    "from lightfm import LightFM"
   ]
  },
  {
   "cell_type": "code",
   "execution_count": 170,
   "metadata": {
    "cellId": "4a4tdn7l8b3pv9cpz6wrba"
   },
   "outputs": [],
   "source": [
    "from sklearn.metrics import r2_score, accuracy_score, mean_squared_error, mean_absolute_error"
   ]
  },
  {
   "cell_type": "code",
   "execution_count": 400,
   "metadata": {
    "cellId": "atxhgn8zql0xldz2mpp2z"
   },
   "outputs": [],
   "source": [
    "class GridSearch:\n",
    "    \n",
    "    def __init__(self, param_grid):\n",
    "        self.param_grid = param_grid\n",
    "        self.best_score = {\n",
    "            'auc_score': None, \n",
    "            'precision_at_k': None\n",
    "        }\n",
    "        self.best_params = {\n",
    "            'auc_score': None, \n",
    "            'precision_at_k': None\n",
    "        }\n",
    "        self.best_model = {\n",
    "            'auc_score': None, \n",
    "            'precision_at_k': None\n",
    "        }\n",
    "        \n",
    "        self.param_grid['num_threads'] = 8\n",
    "        self.param_grid['loss'] = 'warp'\n",
    "#         self.param_grid['loss'] = 'bpr'\n",
    "        self.param_grid['verbose'] = True\n",
    "        self.param_grid['random_state'] = 0\n",
    "        self.param_grid['item_alpha'] = 0.000005\n",
    "        self.param_grid['epochs'] = 20\n",
    "        \n",
    "        if 'learning_rate' not in param_grid.keys():\n",
    "            self.param_grid['learning_rate'] = [0.05]\n",
    "        if 'no_components' not in param_grid.keys():\n",
    "            self.param_grid['no_components'] = [50]\n",
    "    \n",
    "    \n",
    "    def fit(self, data, item_features):\n",
    "        self.train, self.val = random_train_test_split(data, test_percentage=0.2, random_state=self.param_grid['random_state'])\n",
    "        self.item_features = item_features\n",
    "        for lr in tqdm(self.param_grid['learning_rate']):\n",
    "            for nc in tqdm(self.param_grid['no_components']):\n",
    "                model = LightFM(\n",
    "                    loss=self.param_grid['loss'],\n",
    "                    random_state=self.param_grid['random_state'],\n",
    "                    learning_rate=lr,\n",
    "                    no_components=nc,\n",
    "                    item_alpha=self.param_grid['item_alpha']\n",
    "                )\n",
    "                \n",
    "                model = model.fit(\n",
    "                    self.train,\n",
    "                    item_features=item_features,\n",
    "                    epochs=self.param_grid['epochs'],\n",
    "                    num_threads=self.param_grid['num_threads'], \n",
    "                    verbose=self.param_grid['verbose']\n",
    "                )\n",
    "                \n",
    "                precision_at_k = precision_at_k(model, self.val, k=10, item_features=item_features, num_threads=8).mean()\n",
    "                auc_score = auc_score(model, self.val, item_features=item_features, num_threads=8).mean()\n",
    "                \n",
    "                if self.best_score['auc_score'] is None or self.best_score['auc_score'] > auc_score:\n",
    "                    self.best_score['auc_score'] = auc_score\n",
    "                    self.best_params['auc_score'] = {\n",
    "                        'learning_rate': lr,\n",
    "                        'no_components': nc\n",
    "                    }\n",
    "                    self.best_model['auc_score'] = model\n",
    "                    \n",
    "                if self.best_score['precision_at_k'] is None or self.best_score['precision_at_k'] > precision_at_k:\n",
    "                    self.best_score['precision_at_k'] = precision_at_k\n",
    "                    self.best_params['precision_at_k'] = {\n",
    "                        'learning_rate': lr,\n",
    "                        'no_components': nc\n",
    "                    }\n",
    "                    self.best_model['precision_at_k'] = model\n",
    "                \n",
    "                \n",
    "                print(f'learning_rate: {lr} | no_components: {nc}')\n",
    "                print(f'auc_score: {auc_score}')\n",
    "                print(f'precision_at_k: {precision_at_k}')\n",
    "                print('___________________________________________')\n",
    "        print(best_score)"
   ]
  },
  {
   "cell_type": "code",
   "execution_count": 384,
   "metadata": {
    "cellId": "lfsko7dnj1kgxtdm9i37lr"
   },
   "outputs": [],
   "source": [
    "item_features = pd.read_csv('item_features.csv')"
   ]
  },
  {
   "cell_type": "code",
   "execution_count": 385,
   "metadata": {
    "cellId": "hjev2u21k6o7y8rbza8h1i"
   },
   "outputs": [
    {
     "data": {
      "text/html": [
       "<div>\n",
       "<style scoped>\n",
       "    .dataframe tbody tr th:only-of-type {\n",
       "        vertical-align: middle;\n",
       "    }\n",
       "\n",
       "    .dataframe tbody tr th {\n",
       "        vertical-align: top;\n",
       "    }\n",
       "\n",
       "    .dataframe thead th {\n",
       "        text-align: right;\n",
       "    }\n",
       "</style>\n",
       "<table border=\"1\" class=\"dataframe\">\n",
       "  <thead>\n",
       "    <tr style=\"text-align: right;\">\n",
       "      <th></th>\n",
       "      <th>Unnamed: 0</th>\n",
       "      <th>movieId</th>\n",
       "      <th>year</th>\n",
       "      <th>(no genres listed)</th>\n",
       "      <th>Action</th>\n",
       "      <th>Adventure</th>\n",
       "      <th>Animation</th>\n",
       "      <th>Children</th>\n",
       "      <th>Comedy</th>\n",
       "      <th>Crime</th>\n",
       "      <th>...</th>\n",
       "      <th>Film-Noir</th>\n",
       "      <th>Horror</th>\n",
       "      <th>IMAX</th>\n",
       "      <th>Musical</th>\n",
       "      <th>Mystery</th>\n",
       "      <th>Romance</th>\n",
       "      <th>Sci-Fi</th>\n",
       "      <th>Thriller</th>\n",
       "      <th>War</th>\n",
       "      <th>Western</th>\n",
       "    </tr>\n",
       "  </thead>\n",
       "  <tbody>\n",
       "    <tr>\n",
       "      <th>0</th>\n",
       "      <td>0</td>\n",
       "      <td>1</td>\n",
       "      <td>1995</td>\n",
       "      <td>0</td>\n",
       "      <td>0</td>\n",
       "      <td>0</td>\n",
       "      <td>0</td>\n",
       "      <td>0</td>\n",
       "      <td>0</td>\n",
       "      <td>0</td>\n",
       "      <td>...</td>\n",
       "      <td>0</td>\n",
       "      <td>0</td>\n",
       "      <td>0</td>\n",
       "      <td>0</td>\n",
       "      <td>0</td>\n",
       "      <td>0</td>\n",
       "      <td>0</td>\n",
       "      <td>0</td>\n",
       "      <td>0</td>\n",
       "      <td>0</td>\n",
       "    </tr>\n",
       "    <tr>\n",
       "      <th>1</th>\n",
       "      <td>1</td>\n",
       "      <td>2</td>\n",
       "      <td>1995</td>\n",
       "      <td>0</td>\n",
       "      <td>0</td>\n",
       "      <td>0</td>\n",
       "      <td>0</td>\n",
       "      <td>0</td>\n",
       "      <td>0</td>\n",
       "      <td>0</td>\n",
       "      <td>...</td>\n",
       "      <td>0</td>\n",
       "      <td>0</td>\n",
       "      <td>0</td>\n",
       "      <td>0</td>\n",
       "      <td>0</td>\n",
       "      <td>0</td>\n",
       "      <td>0</td>\n",
       "      <td>0</td>\n",
       "      <td>0</td>\n",
       "      <td>0</td>\n",
       "    </tr>\n",
       "    <tr>\n",
       "      <th>2</th>\n",
       "      <td>2</td>\n",
       "      <td>3</td>\n",
       "      <td>1995</td>\n",
       "      <td>0</td>\n",
       "      <td>0</td>\n",
       "      <td>0</td>\n",
       "      <td>0</td>\n",
       "      <td>0</td>\n",
       "      <td>0</td>\n",
       "      <td>0</td>\n",
       "      <td>...</td>\n",
       "      <td>0</td>\n",
       "      <td>0</td>\n",
       "      <td>0</td>\n",
       "      <td>0</td>\n",
       "      <td>0</td>\n",
       "      <td>0</td>\n",
       "      <td>0</td>\n",
       "      <td>0</td>\n",
       "      <td>0</td>\n",
       "      <td>0</td>\n",
       "    </tr>\n",
       "    <tr>\n",
       "      <th>3</th>\n",
       "      <td>3</td>\n",
       "      <td>4</td>\n",
       "      <td>1995</td>\n",
       "      <td>0</td>\n",
       "      <td>0</td>\n",
       "      <td>0</td>\n",
       "      <td>0</td>\n",
       "      <td>0</td>\n",
       "      <td>0</td>\n",
       "      <td>0</td>\n",
       "      <td>...</td>\n",
       "      <td>0</td>\n",
       "      <td>0</td>\n",
       "      <td>0</td>\n",
       "      <td>0</td>\n",
       "      <td>0</td>\n",
       "      <td>0</td>\n",
       "      <td>0</td>\n",
       "      <td>0</td>\n",
       "      <td>0</td>\n",
       "      <td>0</td>\n",
       "    </tr>\n",
       "    <tr>\n",
       "      <th>4</th>\n",
       "      <td>4</td>\n",
       "      <td>5</td>\n",
       "      <td>1995</td>\n",
       "      <td>0</td>\n",
       "      <td>0</td>\n",
       "      <td>0</td>\n",
       "      <td>0</td>\n",
       "      <td>0</td>\n",
       "      <td>0</td>\n",
       "      <td>0</td>\n",
       "      <td>...</td>\n",
       "      <td>0</td>\n",
       "      <td>0</td>\n",
       "      <td>0</td>\n",
       "      <td>0</td>\n",
       "      <td>0</td>\n",
       "      <td>0</td>\n",
       "      <td>0</td>\n",
       "      <td>0</td>\n",
       "      <td>0</td>\n",
       "      <td>0</td>\n",
       "    </tr>\n",
       "  </tbody>\n",
       "</table>\n",
       "<p>5 rows × 23 columns</p>\n",
       "</div>"
      ],
      "text/plain": [
       "   Unnamed: 0  movieId  year  (no genres listed)  Action  Adventure  \\\n",
       "0           0        1  1995                   0       0          0   \n",
       "1           1        2  1995                   0       0          0   \n",
       "2           2        3  1995                   0       0          0   \n",
       "3           3        4  1995                   0       0          0   \n",
       "4           4        5  1995                   0       0          0   \n",
       "\n",
       "   Animation  Children  Comedy  Crime  ...  Film-Noir  Horror  IMAX  Musical  \\\n",
       "0          0         0       0      0  ...          0       0     0        0   \n",
       "1          0         0       0      0  ...          0       0     0        0   \n",
       "2          0         0       0      0  ...          0       0     0        0   \n",
       "3          0         0       0      0  ...          0       0     0        0   \n",
       "4          0         0       0      0  ...          0       0     0        0   \n",
       "\n",
       "   Mystery  Romance  Sci-Fi  Thriller  War  Western  \n",
       "0        0        0       0         0    0        0  \n",
       "1        0        0       0         0    0        0  \n",
       "2        0        0       0         0    0        0  \n",
       "3        0        0       0         0    0        0  \n",
       "4        0        0       0         0    0        0  \n",
       "\n",
       "[5 rows x 23 columns]"
      ]
     },
     "execution_count": 385,
     "metadata": {},
     "output_type": "execute_result"
    }
   ],
   "source": [
    "item_features.head()"
   ]
  },
  {
   "cell_type": "code",
   "execution_count": 452,
   "metadata": {
    "cellId": "krhpgj2oxws0sthtxh7nb"
   },
   "outputs": [],
   "source": [
    "train = pd.read_csv('mov_train.csv')"
   ]
  },
  {
   "cell_type": "code",
   "execution_count": 464,
   "metadata": {
    "cellId": "kbiq0iq0nei11qetsl5r2w"
   },
   "outputs": [],
   "source": [
    "test = pd.read_csv('mov_test.csv')"
   ]
  },
  {
   "cell_type": "code",
   "execution_count": 451,
   "metadata": {
    "cellId": "ayx66yawx7qu9hjmsnzlq"
   },
   "outputs": [
    {
     "data": {
      "text/html": [
       "<div>\n",
       "<style scoped>\n",
       "    .dataframe tbody tr th:only-of-type {\n",
       "        vertical-align: middle;\n",
       "    }\n",
       "\n",
       "    .dataframe tbody tr th {\n",
       "        vertical-align: top;\n",
       "    }\n",
       "\n",
       "    .dataframe thead th {\n",
       "        text-align: right;\n",
       "    }\n",
       "</style>\n",
       "<table border=\"1\" class=\"dataframe\">\n",
       "  <thead>\n",
       "    <tr style=\"text-align: right;\">\n",
       "      <th></th>\n",
       "      <th>userId</th>\n",
       "      <th>movieId</th>\n",
       "      <th>rating</th>\n",
       "      <th>timestamp</th>\n",
       "    </tr>\n",
       "  </thead>\n",
       "  <tbody>\n",
       "    <tr>\n",
       "      <th>0</th>\n",
       "      <td>1</td>\n",
       "      <td>5540</td>\n",
       "      <td>4.0</td>\n",
       "      <td>2005-04-02 23:51:45</td>\n",
       "    </tr>\n",
       "    <tr>\n",
       "      <th>1</th>\n",
       "      <td>1</td>\n",
       "      <td>7164</td>\n",
       "      <td>3.5</td>\n",
       "      <td>2005-04-02 23:52:03</td>\n",
       "    </tr>\n",
       "    <tr>\n",
       "      <th>2</th>\n",
       "      <td>1</td>\n",
       "      <td>2021</td>\n",
       "      <td>4.0</td>\n",
       "      <td>2005-04-02 23:52:09</td>\n",
       "    </tr>\n",
       "    <tr>\n",
       "      <th>3</th>\n",
       "      <td>1</td>\n",
       "      <td>7046</td>\n",
       "      <td>4.0</td>\n",
       "      <td>2005-04-02 23:52:14</td>\n",
       "    </tr>\n",
       "    <tr>\n",
       "      <th>4</th>\n",
       "      <td>1</td>\n",
       "      <td>2143</td>\n",
       "      <td>4.0</td>\n",
       "      <td>2005-04-02 23:52:31</td>\n",
       "    </tr>\n",
       "  </tbody>\n",
       "</table>\n",
       "</div>"
      ],
      "text/plain": [
       "   userId  movieId  rating            timestamp\n",
       "0       1     5540     4.0  2005-04-02 23:51:45\n",
       "1       1     7164     3.5  2005-04-02 23:52:03\n",
       "2       1     2021     4.0  2005-04-02 23:52:09\n",
       "3       1     7046     4.0  2005-04-02 23:52:14\n",
       "4       1     2143     4.0  2005-04-02 23:52:31"
      ]
     },
     "execution_count": 451,
     "metadata": {},
     "output_type": "execute_result"
    }
   ],
   "source": [
    "test.head()"
   ]
  },
  {
   "cell_type": "code",
   "execution_count": 453,
   "metadata": {
    "cellId": "ly4bizidytb98rtkom4qhh"
   },
   "outputs": [
    {
     "data": {
      "text/plain": [
       "userId         int64\n",
       "movieId        int64\n",
       "rating       float64\n",
       "timestamp     object\n",
       "dtype: object"
      ]
     },
     "execution_count": 453,
     "metadata": {},
     "output_type": "execute_result"
    }
   ],
   "source": [
    "test.dtypes"
   ]
  },
  {
   "cell_type": "code",
   "execution_count": 454,
   "metadata": {
    "cellId": "f34cwoi2y1ism0tbmy3pf"
   },
   "outputs": [
    {
     "name": "stdout",
     "output_type": "stream",
     "text": [
      "[1, 2, 3, 4, 5, 6, 7, 8, 9, 10]\n",
      "[131241, 131243, 131248, 131250, 131252, 131254, 131256, 131258, 131260, 131262]\n"
     ]
    }
   ],
   "source": [
    "movie_id_list = np.unique(train['movieId'].values.tolist() + test['movieId'].values.tolist()).tolist()\n",
    "print(movie_id_list[:10])\n",
    "print(movie_id_list[-10:])"
   ]
  },
  {
   "cell_type": "code",
   "execution_count": 455,
   "metadata": {
    "cellId": "833marpeog4p0q6719ks8a"
   },
   "outputs": [],
   "source": [
    "movie_in_train = pd.DataFrame()\n",
    "movie_in_train['movieId'] = movie_id_list"
   ]
  },
  {
   "cell_type": "code",
   "execution_count": 457,
   "metadata": {
    "cellId": "mjjgjhioosdpk4b1tixy6"
   },
   "outputs": [
    {
     "name": "stdout",
     "output_type": "stream",
     "text": [
      "in features:     27278\n",
      "in train + test: 26737\n"
     ]
    }
   ],
   "source": [
    "# Different number of different films in the rating table and item features table\n",
    "\n",
    "movie_id_in_features_list = np.unique(item_features['movieId'].values)\n",
    "movie_id_in_features_list = (movie_id_in_features_list).tolist()\n",
    "print(f'in features:     {len(movie_id_in_features_list)}')\n",
    "print(f'in train + test: {len(movie_id_list)}')"
   ]
  },
  {
   "cell_type": "code",
   "execution_count": 458,
   "metadata": {
    "cellId": "olfrqw6tmfr01m9flxsv"
   },
   "outputs": [
    {
     "name": "stdout",
     "output_type": "stream",
     "text": [
      "[1, 2, 3, 4, 5, 6, 7, 8, 9, 10]\n"
     ]
    }
   ],
   "source": [
    "print(movie_id_in_features_list[:10])"
   ]
  },
  {
   "cell_type": "code",
   "execution_count": 459,
   "metadata": {
    "cellId": "cm5wb2fm4no47hhvuqxfj9"
   },
   "outputs": [
    {
     "data": {
      "text/html": [
       "<div>\n",
       "<style scoped>\n",
       "    .dataframe tbody tr th:only-of-type {\n",
       "        vertical-align: middle;\n",
       "    }\n",
       "\n",
       "    .dataframe tbody tr th {\n",
       "        vertical-align: top;\n",
       "    }\n",
       "\n",
       "    .dataframe thead th {\n",
       "        text-align: right;\n",
       "    }\n",
       "</style>\n",
       "<table border=\"1\" class=\"dataframe\">\n",
       "  <thead>\n",
       "    <tr style=\"text-align: right;\">\n",
       "      <th></th>\n",
       "      <th>movieId</th>\n",
       "      <th>Unnamed: 0</th>\n",
       "      <th>year</th>\n",
       "      <th>(no genres listed)</th>\n",
       "      <th>Action</th>\n",
       "      <th>Adventure</th>\n",
       "      <th>Animation</th>\n",
       "      <th>Children</th>\n",
       "      <th>Comedy</th>\n",
       "      <th>Crime</th>\n",
       "      <th>...</th>\n",
       "      <th>Film-Noir</th>\n",
       "      <th>Horror</th>\n",
       "      <th>IMAX</th>\n",
       "      <th>Musical</th>\n",
       "      <th>Mystery</th>\n",
       "      <th>Romance</th>\n",
       "      <th>Sci-Fi</th>\n",
       "      <th>Thriller</th>\n",
       "      <th>War</th>\n",
       "      <th>Western</th>\n",
       "    </tr>\n",
       "  </thead>\n",
       "  <tbody>\n",
       "    <tr>\n",
       "      <th>0</th>\n",
       "      <td>1</td>\n",
       "      <td>0</td>\n",
       "      <td>1995</td>\n",
       "      <td>0</td>\n",
       "      <td>0</td>\n",
       "      <td>0</td>\n",
       "      <td>0</td>\n",
       "      <td>0</td>\n",
       "      <td>0</td>\n",
       "      <td>0</td>\n",
       "      <td>...</td>\n",
       "      <td>0</td>\n",
       "      <td>0</td>\n",
       "      <td>0</td>\n",
       "      <td>0</td>\n",
       "      <td>0</td>\n",
       "      <td>0</td>\n",
       "      <td>0</td>\n",
       "      <td>0</td>\n",
       "      <td>0</td>\n",
       "      <td>0</td>\n",
       "    </tr>\n",
       "    <tr>\n",
       "      <th>1</th>\n",
       "      <td>2</td>\n",
       "      <td>1</td>\n",
       "      <td>1995</td>\n",
       "      <td>0</td>\n",
       "      <td>0</td>\n",
       "      <td>0</td>\n",
       "      <td>0</td>\n",
       "      <td>0</td>\n",
       "      <td>0</td>\n",
       "      <td>0</td>\n",
       "      <td>...</td>\n",
       "      <td>0</td>\n",
       "      <td>0</td>\n",
       "      <td>0</td>\n",
       "      <td>0</td>\n",
       "      <td>0</td>\n",
       "      <td>0</td>\n",
       "      <td>0</td>\n",
       "      <td>0</td>\n",
       "      <td>0</td>\n",
       "      <td>0</td>\n",
       "    </tr>\n",
       "    <tr>\n",
       "      <th>2</th>\n",
       "      <td>3</td>\n",
       "      <td>2</td>\n",
       "      <td>1995</td>\n",
       "      <td>0</td>\n",
       "      <td>0</td>\n",
       "      <td>0</td>\n",
       "      <td>0</td>\n",
       "      <td>0</td>\n",
       "      <td>0</td>\n",
       "      <td>0</td>\n",
       "      <td>...</td>\n",
       "      <td>0</td>\n",
       "      <td>0</td>\n",
       "      <td>0</td>\n",
       "      <td>0</td>\n",
       "      <td>0</td>\n",
       "      <td>0</td>\n",
       "      <td>0</td>\n",
       "      <td>0</td>\n",
       "      <td>0</td>\n",
       "      <td>0</td>\n",
       "    </tr>\n",
       "    <tr>\n",
       "      <th>3</th>\n",
       "      <td>4</td>\n",
       "      <td>3</td>\n",
       "      <td>1995</td>\n",
       "      <td>0</td>\n",
       "      <td>0</td>\n",
       "      <td>0</td>\n",
       "      <td>0</td>\n",
       "      <td>0</td>\n",
       "      <td>0</td>\n",
       "      <td>0</td>\n",
       "      <td>...</td>\n",
       "      <td>0</td>\n",
       "      <td>0</td>\n",
       "      <td>0</td>\n",
       "      <td>0</td>\n",
       "      <td>0</td>\n",
       "      <td>0</td>\n",
       "      <td>0</td>\n",
       "      <td>0</td>\n",
       "      <td>0</td>\n",
       "      <td>0</td>\n",
       "    </tr>\n",
       "    <tr>\n",
       "      <th>4</th>\n",
       "      <td>5</td>\n",
       "      <td>4</td>\n",
       "      <td>1995</td>\n",
       "      <td>0</td>\n",
       "      <td>0</td>\n",
       "      <td>0</td>\n",
       "      <td>0</td>\n",
       "      <td>0</td>\n",
       "      <td>0</td>\n",
       "      <td>0</td>\n",
       "      <td>...</td>\n",
       "      <td>0</td>\n",
       "      <td>0</td>\n",
       "      <td>0</td>\n",
       "      <td>0</td>\n",
       "      <td>0</td>\n",
       "      <td>0</td>\n",
       "      <td>0</td>\n",
       "      <td>0</td>\n",
       "      <td>0</td>\n",
       "      <td>0</td>\n",
       "    </tr>\n",
       "    <tr>\n",
       "      <th>...</th>\n",
       "      <td>...</td>\n",
       "      <td>...</td>\n",
       "      <td>...</td>\n",
       "      <td>...</td>\n",
       "      <td>...</td>\n",
       "      <td>...</td>\n",
       "      <td>...</td>\n",
       "      <td>...</td>\n",
       "      <td>...</td>\n",
       "      <td>...</td>\n",
       "      <td>...</td>\n",
       "      <td>...</td>\n",
       "      <td>...</td>\n",
       "      <td>...</td>\n",
       "      <td>...</td>\n",
       "      <td>...</td>\n",
       "      <td>...</td>\n",
       "      <td>...</td>\n",
       "      <td>...</td>\n",
       "      <td>...</td>\n",
       "      <td>...</td>\n",
       "    </tr>\n",
       "    <tr>\n",
       "      <th>26732</th>\n",
       "      <td>131254</td>\n",
       "      <td>27273</td>\n",
       "      <td>2007</td>\n",
       "      <td>0</td>\n",
       "      <td>0</td>\n",
       "      <td>0</td>\n",
       "      <td>0</td>\n",
       "      <td>0</td>\n",
       "      <td>0</td>\n",
       "      <td>0</td>\n",
       "      <td>...</td>\n",
       "      <td>0</td>\n",
       "      <td>0</td>\n",
       "      <td>0</td>\n",
       "      <td>0</td>\n",
       "      <td>0</td>\n",
       "      <td>0</td>\n",
       "      <td>0</td>\n",
       "      <td>0</td>\n",
       "      <td>0</td>\n",
       "      <td>0</td>\n",
       "    </tr>\n",
       "    <tr>\n",
       "      <th>26733</th>\n",
       "      <td>131256</td>\n",
       "      <td>27274</td>\n",
       "      <td>2002</td>\n",
       "      <td>0</td>\n",
       "      <td>0</td>\n",
       "      <td>0</td>\n",
       "      <td>0</td>\n",
       "      <td>0</td>\n",
       "      <td>0</td>\n",
       "      <td>0</td>\n",
       "      <td>...</td>\n",
       "      <td>0</td>\n",
       "      <td>0</td>\n",
       "      <td>0</td>\n",
       "      <td>0</td>\n",
       "      <td>0</td>\n",
       "      <td>0</td>\n",
       "      <td>0</td>\n",
       "      <td>0</td>\n",
       "      <td>0</td>\n",
       "      <td>0</td>\n",
       "    </tr>\n",
       "    <tr>\n",
       "      <th>26734</th>\n",
       "      <td>131258</td>\n",
       "      <td>27275</td>\n",
       "      <td>2014</td>\n",
       "      <td>0</td>\n",
       "      <td>0</td>\n",
       "      <td>0</td>\n",
       "      <td>0</td>\n",
       "      <td>0</td>\n",
       "      <td>0</td>\n",
       "      <td>0</td>\n",
       "      <td>...</td>\n",
       "      <td>0</td>\n",
       "      <td>0</td>\n",
       "      <td>0</td>\n",
       "      <td>0</td>\n",
       "      <td>0</td>\n",
       "      <td>0</td>\n",
       "      <td>0</td>\n",
       "      <td>0</td>\n",
       "      <td>0</td>\n",
       "      <td>0</td>\n",
       "    </tr>\n",
       "    <tr>\n",
       "      <th>26735</th>\n",
       "      <td>131260</td>\n",
       "      <td>27276</td>\n",
       "      <td>2001</td>\n",
       "      <td>0</td>\n",
       "      <td>0</td>\n",
       "      <td>0</td>\n",
       "      <td>0</td>\n",
       "      <td>0</td>\n",
       "      <td>0</td>\n",
       "      <td>0</td>\n",
       "      <td>...</td>\n",
       "      <td>0</td>\n",
       "      <td>0</td>\n",
       "      <td>0</td>\n",
       "      <td>0</td>\n",
       "      <td>0</td>\n",
       "      <td>0</td>\n",
       "      <td>0</td>\n",
       "      <td>0</td>\n",
       "      <td>0</td>\n",
       "      <td>0</td>\n",
       "    </tr>\n",
       "    <tr>\n",
       "      <th>26736</th>\n",
       "      <td>131262</td>\n",
       "      <td>27277</td>\n",
       "      <td>2014</td>\n",
       "      <td>0</td>\n",
       "      <td>0</td>\n",
       "      <td>0</td>\n",
       "      <td>0</td>\n",
       "      <td>0</td>\n",
       "      <td>0</td>\n",
       "      <td>0</td>\n",
       "      <td>...</td>\n",
       "      <td>0</td>\n",
       "      <td>0</td>\n",
       "      <td>0</td>\n",
       "      <td>0</td>\n",
       "      <td>0</td>\n",
       "      <td>0</td>\n",
       "      <td>0</td>\n",
       "      <td>0</td>\n",
       "      <td>0</td>\n",
       "      <td>0</td>\n",
       "    </tr>\n",
       "  </tbody>\n",
       "</table>\n",
       "<p>26737 rows × 23 columns</p>\n",
       "</div>"
      ],
      "text/plain": [
       "       movieId  Unnamed: 0  year  (no genres listed)  Action  Adventure  \\\n",
       "0            1           0  1995                   0       0          0   \n",
       "1            2           1  1995                   0       0          0   \n",
       "2            3           2  1995                   0       0          0   \n",
       "3            4           3  1995                   0       0          0   \n",
       "4            5           4  1995                   0       0          0   \n",
       "...        ...         ...   ...                 ...     ...        ...   \n",
       "26732   131254       27273  2007                   0       0          0   \n",
       "26733   131256       27274  2002                   0       0          0   \n",
       "26734   131258       27275  2014                   0       0          0   \n",
       "26735   131260       27276  2001                   0       0          0   \n",
       "26736   131262       27277  2014                   0       0          0   \n",
       "\n",
       "       Animation  Children  Comedy  Crime  ...  Film-Noir  Horror  IMAX  \\\n",
       "0              0         0       0      0  ...          0       0     0   \n",
       "1              0         0       0      0  ...          0       0     0   \n",
       "2              0         0       0      0  ...          0       0     0   \n",
       "3              0         0       0      0  ...          0       0     0   \n",
       "4              0         0       0      0  ...          0       0     0   \n",
       "...          ...       ...     ...    ...  ...        ...     ...   ...   \n",
       "26732          0         0       0      0  ...          0       0     0   \n",
       "26733          0         0       0      0  ...          0       0     0   \n",
       "26734          0         0       0      0  ...          0       0     0   \n",
       "26735          0         0       0      0  ...          0       0     0   \n",
       "26736          0         0       0      0  ...          0       0     0   \n",
       "\n",
       "       Musical  Mystery  Romance  Sci-Fi  Thriller  War  Western  \n",
       "0            0        0        0       0         0    0        0  \n",
       "1            0        0        0       0         0    0        0  \n",
       "2            0        0        0       0         0    0        0  \n",
       "3            0        0        0       0         0    0        0  \n",
       "4            0        0        0       0         0    0        0  \n",
       "...        ...      ...      ...     ...       ...  ...      ...  \n",
       "26732        0        0        0       0         0    0        0  \n",
       "26733        0        0        0       0         0    0        0  \n",
       "26734        0        0        0       0         0    0        0  \n",
       "26735        0        0        0       0         0    0        0  \n",
       "26736        0        0        0       0         0    0        0  \n",
       "\n",
       "[26737 rows x 23 columns]"
      ]
     },
     "execution_count": 459,
     "metadata": {},
     "output_type": "execute_result"
    }
   ],
   "source": [
    "# Remove all unnecessary movies from the table of item features\n",
    "\n",
    "item_in_train_features = pd.merge(movie_in_train, item_features, on='movieId',how='inner')\n",
    "item_in_train_features"
   ]
  },
  {
   "cell_type": "code",
   "execution_count": 460,
   "metadata": {
    "cellId": "fzn0av8y0oayl1nfgexjpa"
   },
   "outputs": [
    {
     "name": "stdout",
     "output_type": "stream",
     "text": [
      "26737\n",
      "[ 1  2  3  4  5  6  7  8  9 10]\n",
      "[131241 131243 131248 131250 131252 131254 131256 131258 131260 131262]\n"
     ]
    }
   ],
   "source": [
    "movies = item_in_train_features['movieId'].unique() #list of all movies in train\n",
    "print(len(movies))\n",
    "print(movies[:10])\n",
    "print(movies[-10:])"
   ]
  },
  {
   "cell_type": "code",
   "execution_count": 461,
   "metadata": {
    "cellId": "dzi15b2xaac3xt3vjqiiw7"
   },
   "outputs": [],
   "source": [
    "# Renumbering of omissions, because there are gaps\n",
    "\n",
    "train['userId'] = train['userId'].map({u: i for i, u in enumerate(users)})\n",
    "train['movieId'] = train['movieId'].map({m: i for i, m in enumerate(movies)})"
   ]
  },
  {
   "cell_type": "code",
   "execution_count": 465,
   "metadata": {
    "cellId": "nd0wwv7gjhlvsmocy8bmpt"
   },
   "outputs": [],
   "source": [
    "test['userId'] = test['userId'].map({u: i for i, u in enumerate(users)})\n",
    "test['movieId'] = test['movieId'].map({m: i for i, m in enumerate(movies)})"
   ]
  },
  {
   "cell_type": "code",
   "execution_count": 466,
   "metadata": {
    "cellId": "rxhuf28dc88sf4u7ke1zzp"
   },
   "outputs": [
    {
     "data": {
      "text/html": [
       "<div>\n",
       "<style scoped>\n",
       "    .dataframe tbody tr th:only-of-type {\n",
       "        vertical-align: middle;\n",
       "    }\n",
       "\n",
       "    .dataframe tbody tr th {\n",
       "        vertical-align: top;\n",
       "    }\n",
       "\n",
       "    .dataframe thead th {\n",
       "        text-align: right;\n",
       "    }\n",
       "</style>\n",
       "<table border=\"1\" class=\"dataframe\">\n",
       "  <thead>\n",
       "    <tr style=\"text-align: right;\">\n",
       "      <th></th>\n",
       "      <th>userId</th>\n",
       "      <th>movieId</th>\n",
       "      <th>rating</th>\n",
       "      <th>timestamp</th>\n",
       "    </tr>\n",
       "  </thead>\n",
       "  <tbody>\n",
       "    <tr>\n",
       "      <th>0</th>\n",
       "      <td>0</td>\n",
       "      <td>907</td>\n",
       "      <td>3.5</td>\n",
       "      <td>2004-09-10 03:06:38</td>\n",
       "    </tr>\n",
       "    <tr>\n",
       "      <th>1</th>\n",
       "      <td>0</td>\n",
       "      <td>902</td>\n",
       "      <td>3.5</td>\n",
       "      <td>2004-09-10 03:07:01</td>\n",
       "    </tr>\n",
       "    <tr>\n",
       "      <th>2</th>\n",
       "      <td>0</td>\n",
       "      <td>2597</td>\n",
       "      <td>3.5</td>\n",
       "      <td>2004-09-10 03:07:30</td>\n",
       "    </tr>\n",
       "    <tr>\n",
       "      <th>3</th>\n",
       "      <td>0</td>\n",
       "      <td>1532</td>\n",
       "      <td>3.5</td>\n",
       "      <td>2004-09-10 03:07:36</td>\n",
       "    </tr>\n",
       "    <tr>\n",
       "      <th>4</th>\n",
       "      <td>0</td>\n",
       "      <td>1057</td>\n",
       "      <td>4.0</td>\n",
       "      <td>2004-09-10 03:07:45</td>\n",
       "    </tr>\n",
       "    <tr>\n",
       "      <th>...</th>\n",
       "      <td>...</td>\n",
       "      <td>...</td>\n",
       "      <td>...</td>\n",
       "      <td>...</td>\n",
       "    </tr>\n",
       "    <tr>\n",
       "      <th>15776687</th>\n",
       "      <td>138492</td>\n",
       "      <td>1871</td>\n",
       "      <td>4.0</td>\n",
       "      <td>2009-10-28 17:32:34</td>\n",
       "    </tr>\n",
       "    <tr>\n",
       "      <th>15776688</th>\n",
       "      <td>138492</td>\n",
       "      <td>752</td>\n",
       "      <td>4.0</td>\n",
       "      <td>2009-10-29 22:19:21</td>\n",
       "    </tr>\n",
       "    <tr>\n",
       "      <th>15776689</th>\n",
       "      <td>138492</td>\n",
       "      <td>5686</td>\n",
       "      <td>3.5</td>\n",
       "      <td>2009-10-29 22:19:35</td>\n",
       "    </tr>\n",
       "    <tr>\n",
       "      <th>15776690</th>\n",
       "      <td>138492</td>\n",
       "      <td>1395</td>\n",
       "      <td>4.0</td>\n",
       "      <td>2009-10-29 22:20:05</td>\n",
       "    </tr>\n",
       "    <tr>\n",
       "      <th>15776691</th>\n",
       "      <td>138492</td>\n",
       "      <td>1480</td>\n",
       "      <td>4.5</td>\n",
       "      <td>2009-11-09 16:50:32</td>\n",
       "    </tr>\n",
       "  </tbody>\n",
       "</table>\n",
       "<p>15776692 rows × 4 columns</p>\n",
       "</div>"
      ],
      "text/plain": [
       "          userId  movieId  rating            timestamp\n",
       "0              0      907     3.5  2004-09-10 03:06:38\n",
       "1              0      902     3.5  2004-09-10 03:07:01\n",
       "2              0     2597     3.5  2004-09-10 03:07:30\n",
       "3              0     1532     3.5  2004-09-10 03:07:36\n",
       "4              0     1057     4.0  2004-09-10 03:07:45\n",
       "...          ...      ...     ...                  ...\n",
       "15776687  138492     1871     4.0  2009-10-28 17:32:34\n",
       "15776688  138492      752     4.0  2009-10-29 22:19:21\n",
       "15776689  138492     5686     3.5  2009-10-29 22:19:35\n",
       "15776690  138492     1395     4.0  2009-10-29 22:20:05\n",
       "15776691  138492     1480     4.5  2009-11-09 16:50:32\n",
       "\n",
       "[15776692 rows x 4 columns]"
      ]
     },
     "execution_count": 466,
     "metadata": {},
     "output_type": "execute_result"
    }
   ],
   "source": [
    "train"
   ]
  },
  {
   "cell_type": "code",
   "execution_count": 467,
   "metadata": {
    "cellId": "53z20k9c75qy4a6j4yclrb"
   },
   "outputs": [
    {
     "data": {
      "text/html": [
       "<div>\n",
       "<style scoped>\n",
       "    .dataframe tbody tr th:only-of-type {\n",
       "        vertical-align: middle;\n",
       "    }\n",
       "\n",
       "    .dataframe tbody tr th {\n",
       "        vertical-align: top;\n",
       "    }\n",
       "\n",
       "    .dataframe thead th {\n",
       "        text-align: right;\n",
       "    }\n",
       "</style>\n",
       "<table border=\"1\" class=\"dataframe\">\n",
       "  <thead>\n",
       "    <tr style=\"text-align: right;\">\n",
       "      <th></th>\n",
       "      <th>userId</th>\n",
       "      <th>movieId</th>\n",
       "      <th>rating</th>\n",
       "      <th>timestamp</th>\n",
       "    </tr>\n",
       "  </thead>\n",
       "  <tbody>\n",
       "    <tr>\n",
       "      <th>0</th>\n",
       "      <td>0</td>\n",
       "      <td>5443</td>\n",
       "      <td>4.0</td>\n",
       "      <td>2005-04-02 23:51:45</td>\n",
       "    </tr>\n",
       "    <tr>\n",
       "      <th>1</th>\n",
       "      <td>0</td>\n",
       "      <td>7052</td>\n",
       "      <td>3.5</td>\n",
       "      <td>2005-04-02 23:52:03</td>\n",
       "    </tr>\n",
       "    <tr>\n",
       "      <th>2</th>\n",
       "      <td>0</td>\n",
       "      <td>1937</td>\n",
       "      <td>4.0</td>\n",
       "      <td>2005-04-02 23:52:09</td>\n",
       "    </tr>\n",
       "    <tr>\n",
       "      <th>3</th>\n",
       "      <td>0</td>\n",
       "      <td>6934</td>\n",
       "      <td>4.0</td>\n",
       "      <td>2005-04-02 23:52:14</td>\n",
       "    </tr>\n",
       "    <tr>\n",
       "      <th>4</th>\n",
       "      <td>0</td>\n",
       "      <td>2059</td>\n",
       "      <td>4.0</td>\n",
       "      <td>2005-04-02 23:52:31</td>\n",
       "    </tr>\n",
       "    <tr>\n",
       "      <th>...</th>\n",
       "      <td>...</td>\n",
       "      <td>...</td>\n",
       "      <td>...</td>\n",
       "      <td>...</td>\n",
       "    </tr>\n",
       "    <tr>\n",
       "      <th>4086023</th>\n",
       "      <td>138492</td>\n",
       "      <td>6424</td>\n",
       "      <td>3.0</td>\n",
       "      <td>2009-12-07 18:18:28</td>\n",
       "    </tr>\n",
       "    <tr>\n",
       "      <th>4086024</th>\n",
       "      <td>138492</td>\n",
       "      <td>11901</td>\n",
       "      <td>4.0</td>\n",
       "      <td>2009-12-07 18:18:40</td>\n",
       "    </tr>\n",
       "    <tr>\n",
       "      <th>4086025</th>\n",
       "      <td>138492</td>\n",
       "      <td>1247</td>\n",
       "      <td>3.0</td>\n",
       "      <td>2010-01-01 20:42:32</td>\n",
       "    </tr>\n",
       "    <tr>\n",
       "      <th>4086026</th>\n",
       "      <td>138492</td>\n",
       "      <td>6884</td>\n",
       "      <td>3.0</td>\n",
       "      <td>2010-01-01 20:42:35</td>\n",
       "    </tr>\n",
       "    <tr>\n",
       "      <th>4086027</th>\n",
       "      <td>138492</td>\n",
       "      <td>401</td>\n",
       "      <td>3.0</td>\n",
       "      <td>2010-01-01 20:42:52</td>\n",
       "    </tr>\n",
       "  </tbody>\n",
       "</table>\n",
       "<p>4086028 rows × 4 columns</p>\n",
       "</div>"
      ],
      "text/plain": [
       "         userId  movieId  rating            timestamp\n",
       "0             0     5443     4.0  2005-04-02 23:51:45\n",
       "1             0     7052     3.5  2005-04-02 23:52:03\n",
       "2             0     1937     4.0  2005-04-02 23:52:09\n",
       "3             0     6934     4.0  2005-04-02 23:52:14\n",
       "4             0     2059     4.0  2005-04-02 23:52:31\n",
       "...         ...      ...     ...                  ...\n",
       "4086023  138492     6424     3.0  2009-12-07 18:18:28\n",
       "4086024  138492    11901     4.0  2009-12-07 18:18:40\n",
       "4086025  138492     1247     3.0  2010-01-01 20:42:32\n",
       "4086026  138492     6884     3.0  2010-01-01 20:42:35\n",
       "4086027  138492      401     3.0  2010-01-01 20:42:52\n",
       "\n",
       "[4086028 rows x 4 columns]"
      ]
     },
     "execution_count": 467,
     "metadata": {},
     "output_type": "execute_result"
    }
   ],
   "source": [
    "test"
   ]
  },
  {
   "cell_type": "code",
   "execution_count": 468,
   "metadata": {
    "cellId": "rs1rwdoaof96z8gckdblp2"
   },
   "outputs": [
    {
     "name": "stdout",
     "output_type": "stream",
     "text": [
      "len: 22057\n",
      "max: 26731\n",
      "min: 0\n"
     ]
    }
   ],
   "source": [
    "print(f'len: {len(np.unique(train[\"movieId\"].values))}')\n",
    "print(f'max: {np.max(train[\"movieId\"].values)}')\n",
    "print(f'min: {np.min(train[\"movieId\"].values)}')"
   ]
  },
  {
   "cell_type": "code",
   "execution_count": 469,
   "metadata": {
    "cellId": "xjzn64ht86holxts607nui",
    "id": "CPf-VTYO-E9b"
   },
   "outputs": [
    {
     "name": "stderr",
     "output_type": "stream",
     "text": [
      "15776692it [23:05, 11386.36it/s]\n"
     ]
    }
   ],
   "source": [
    "# Prepare interaction sparce matrix\n",
    "\n",
    "rows = []\n",
    "cols = []\n",
    "data = []\n",
    "\n",
    "for i, row in tqdm(train.iterrows()):    \n",
    "    rows.append(row.userId)\n",
    "    cols.append(row.movieId)\n",
    "    data.append(row.rating)"
   ]
  },
  {
   "cell_type": "code",
   "execution_count": 470,
   "metadata": {
    "cellId": "i0znmtejawo03z0pa0zq43k"
   },
   "outputs": [
    {
     "name": "stdout",
     "output_type": "stream",
     "text": [
      "26731\n",
      "0\n"
     ]
    }
   ],
   "source": [
    "print(np.max(cols))\n",
    "print(np.min(cols))"
   ]
  },
  {
   "cell_type": "code",
   "execution_count": 471,
   "metadata": {
    "cellId": "8zc8b39eegle6wzai6fad7"
   },
   "outputs": [],
   "source": [
    "train_coo = sparse.coo_matrix((data, (rows, cols)), shape=(np.max(rows) + 1, np.max(cols) + 1))"
   ]
  },
  {
   "cell_type": "code",
   "execution_count": 472,
   "metadata": {
    "cellId": "fbz1k084psmj0j64ld2om"
   },
   "outputs": [
    {
     "data": {
      "text/plain": [
       "22057"
      ]
     },
     "execution_count": 472,
     "metadata": {},
     "output_type": "execute_result"
    }
   ],
   "source": [
    "len(np.unique(cols))"
   ]
  },
  {
   "cell_type": "code",
   "execution_count": 473,
   "metadata": {
    "cellId": "91a7zp2mukeni9jd2pk7"
   },
   "outputs": [
    {
     "data": {
      "text/plain": [
       "138493"
      ]
     },
     "execution_count": 473,
     "metadata": {},
     "output_type": "execute_result"
    }
   ],
   "source": [
    "len(np.unique(rows))"
   ]
  },
  {
   "cell_type": "code",
   "execution_count": 474,
   "metadata": {
    "cellId": "jo6ml6gv51l6dckm3gwtpc"
   },
   "outputs": [
    {
     "data": {
      "text/plain": [
       "(138493, 26732)"
      ]
     },
     "execution_count": 474,
     "metadata": {},
     "output_type": "execute_result"
    }
   ],
   "source": [
    "train_coo.shape"
   ]
  },
  {
   "cell_type": "code",
   "execution_count": 475,
   "metadata": {
    "cellId": "0vizqnztkng26pv715h2ei",
    "id": "kZOlb1O_-E_8"
   },
   "outputs": [],
   "source": [
    "scipy.sparse.save_npz('sparse_train.npz', train_coo)"
   ]
  },
  {
   "cell_type": "code",
   "execution_count": 476,
   "metadata": {
    "cellId": "adgmclhdt5p2fig6qyb6ln",
    "id": "VILzge4d-FCl"
   },
   "outputs": [],
   "source": [
    "train_sparse_matrix = scipy.sparse.load_npz('sparse_train.npz')"
   ]
  },
  {
   "cell_type": "code",
   "execution_count": 477,
   "metadata": {
    "cellId": "tm9xb7ij8cmv0u49mt91ud"
   },
   "outputs": [],
   "source": [
    "item_in_train_features = item_in_train_features.drop(['movieId'], axis=1)"
   ]
  },
  {
   "cell_type": "code",
   "execution_count": 478,
   "metadata": {
    "cellId": "4n3vvorpozrmsox8dfp13f"
   },
   "outputs": [
    {
     "data": {
      "text/plain": [
       "(26737, 22)"
      ]
     },
     "execution_count": 478,
     "metadata": {},
     "output_type": "execute_result"
    }
   ],
   "source": [
    "item_in_train_features.shape"
   ]
  },
  {
   "cell_type": "code",
   "execution_count": 479,
   "metadata": {
    "cellId": "c6b408209ivhb7iz1nmed"
   },
   "outputs": [],
   "source": [
    "item_features_sparse = scipy.sparse.csr_matrix(item_in_train_features.values)"
   ]
  },
  {
   "cell_type": "code",
   "execution_count": 480,
   "metadata": {
    "cellId": "5o0bzt560q4beeikm83fof"
   },
   "outputs": [
    {
     "data": {
      "text/plain": [
       "(26737, 22)"
      ]
     },
     "execution_count": 480,
     "metadata": {},
     "output_type": "execute_result"
    }
   ],
   "source": [
    "item_features_sparse.shape"
   ]
  },
  {
   "cell_type": "code",
   "execution_count": 482,
   "metadata": {
    "cellId": "t9ejq33z9kqdm3jo9kmorc"
   },
   "outputs": [
    {
     "name": "stderr",
     "output_type": "stream",
     "text": [
      "4086028it [06:01, 11305.36it/s]\n"
     ]
    }
   ],
   "source": [
    "usedId = []\n",
    "movieId = []\n",
    "y_true = [] # true rating\n",
    "\n",
    "for i, row in tqdm(test.iterrows()):    \n",
    "    usedId.append(row.userId)\n",
    "    movieId.append(row.movieId)\n",
    "    y_true.append(row.rating)"
   ]
  },
  {
   "cell_type": "code",
   "execution_count": 516,
   "metadata": {
    "cellId": "yi1kpufz7nxvpbjpp38eb"
   },
   "outputs": [],
   "source": [
    "test_sparse = sparse.coo_matrix((y_true, (usedId, movieId)), shape=(np.max(usedId) + 1, np.max(movieId) + 1))"
   ]
  },
  {
   "cell_type": "code",
   "execution_count": 523,
   "metadata": {
    "cellId": "qr51por8od9cewcwsqxait"
   },
   "outputs": [
    {
     "data": {
      "text/plain": [
       "(138493, 26737)"
      ]
     },
     "execution_count": 523,
     "metadata": {},
     "output_type": "execute_result"
    }
   ],
   "source": [
    "test_sparse.shape"
   ]
  },
  {
   "cell_type": "code",
   "execution_count": 534,
   "metadata": {
    "cellId": "0ios55zx5eadbp73dm7jdnf"
   },
   "outputs": [
    {
     "name": "stderr",
     "output_type": "stream",
     "text": [
      "Epoch: 100%|██████████| 20/20 [14:09<00:00, 42.50s/it]\n"
     ]
    }
   ],
   "source": [
    "model = LightFM(\n",
    "    loss='warp',\n",
    "    random_state=0,\n",
    "    learning_rate=0.01,\n",
    "    no_components=50,\n",
    "    item_alpha=0.000005\n",
    ")\n",
    "    \n",
    "model = model.fit(\n",
    "    train_sparse_matrix,\n",
    "    item_features=item_features_sparse,\n",
    "    epochs=20,\n",
    "    num_threads=8, \n",
    "    verbose=True\n",
    ")"
   ]
  },
  {
   "cell_type": "code",
   "execution_count": 535,
   "metadata": {
    "cellId": "oc2b7x1bc13fjcf6uuz4c"
   },
   "outputs": [],
   "source": [
    "# gs = GridSearch(param_grid={\n",
    "#     'learning_rate': [0.001, 0.01, 0.05, 0.1],\n",
    "#     'no_components': [5, 10, 30, 50]\n",
    "# })\n",
    "# gs.fit(train_sparse_matrix, item_features_sparse)"
   ]
  },
  {
   "cell_type": "code",
   "execution_count": null,
   "metadata": {
    "cellId": "9qdxui7a0wdac432sid59i"
   },
   "outputs": [],
   "source": []
  },
  {
   "cell_type": "code",
   "execution_count": 536,
   "metadata": {
    "cellId": "vtq15b8wabg1wtnjsc972v"
   },
   "outputs": [],
   "source": [
    "train_precision = precision_at_k(model, train_sparse_matrix, k=10, item_features=item_features_sparse, num_threads=8).mean()"
   ]
  },
  {
   "cell_type": "code",
   "execution_count": 537,
   "metadata": {
    "cellId": "jvtpw1vjyybtzlpivh7y3"
   },
   "outputs": [],
   "source": [
    "test_precision = precision_at_k(model, test_sparse, k=10, item_features=item_features_sparse, num_threads=8).mean()"
   ]
  },
  {
   "cell_type": "code",
   "execution_count": 538,
   "metadata": {
    "cellId": "gxwb5dqg88d0giaseqonm"
   },
   "outputs": [],
   "source": [
    "train_auc = auc_score(model, train_sparse_matrix, item_features=item_features_sparse, num_threads=8).mean()"
   ]
  },
  {
   "cell_type": "code",
   "execution_count": 539,
   "metadata": {
    "cellId": "41hxc5fbpa5bnzxg5wkkzm"
   },
   "outputs": [
    {
     "name": "stdout",
     "output_type": "stream",
     "text": [
      "Precision: train 0.10, test 0.02.\n",
      "AUC: train 0.90, test 0.87.\n"
     ]
    }
   ],
   "source": [
    "test_auc = auc_score(model, test_sparse, item_features=item_features_sparse, num_threads=8).mean()\n",
    "\n",
    "print('Precision: train %.2f, test %.2f.' % (train_precision, test_precision))\n",
    "print('AUC: train %.2f, test %.2f.' % (train_auc, test_auc))"
   ]
  },
  {
   "cell_type": "code",
   "execution_count": 540,
   "metadata": {
    "cellId": "2h6z0nlv93xz4n4atcrjda"
   },
   "outputs": [],
   "source": [
    "train_recall = recall_at_k(model, train_sparse_matrix, k=10, item_features=item_features_sparse, num_threads=8).mean()"
   ]
  },
  {
   "cell_type": "code",
   "execution_count": 541,
   "metadata": {
    "cellId": "jtt2ha3dni942j4xh6sk4"
   },
   "outputs": [],
   "source": [
    "test_recall = recall_at_k(model, test_sparse, k=10, item_features=item_features_sparse, num_threads=8).mean()"
   ]
  },
  {
   "cell_type": "code",
   "execution_count": 542,
   "metadata": {
    "cellId": "jxgqwmd4jjq15ykdjpu51u"
   },
   "outputs": [
    {
     "name": "stdout",
     "output_type": "stream",
     "text": [
      "Recall: train 0.02, test 0.01.\n"
     ]
    }
   ],
   "source": [
    "print('Recall: train %.2f, test %.2f.' % (train_recall, test_recall))"
   ]
  },
  {
   "cell_type": "code",
   "execution_count": null,
   "metadata": {
    "cellId": "spj1joakod9sj9qvtnhw8"
   },
   "outputs": [],
   "source": []
  },
  {
   "cell_type": "code",
   "execution_count": null,
   "metadata": {
    "cellId": "ph3icf8a0d8p3ta7kg006"
   },
   "outputs": [],
   "source": []
  },
  {
   "cell_type": "code",
   "execution_count": 543,
   "metadata": {
    "cellId": "ourxlzp40fyywhn12n8h"
   },
   "outputs": [
    {
     "name": "stderr",
     "output_type": "stream",
     "text": [
      "Epoch: 100%|██████████| 20/20 [24:26<00:00, 73.34s/it]\n"
     ]
    }
   ],
   "source": [
    "model = LightFM(\n",
    "    loss='bpr',\n",
    "    random_state=0,\n",
    "    learning_rate=0.01,\n",
    "    no_components=50,\n",
    "    item_alpha=0.000005\n",
    ")\n",
    "    \n",
    "model = model.fit(\n",
    "    train_sparse_matrix,\n",
    "    item_features=item_features_sparse,\n",
    "    epochs=20,\n",
    "    num_threads=8, \n",
    "    verbose=True\n",
    ")"
   ]
  },
  {
   "cell_type": "code",
   "execution_count": 544,
   "metadata": {
    "cellId": "r6ymudn5n9n5dm4gn9uc"
   },
   "outputs": [],
   "source": [
    "train_precision = precision_at_k(model, train_sparse_matrix, k=10, item_features=item_features_sparse, num_threads=8).mean()"
   ]
  },
  {
   "cell_type": "code",
   "execution_count": 545,
   "metadata": {
    "cellId": "h8euw62i788gsrse3myus"
   },
   "outputs": [],
   "source": [
    "test_precision = precision_at_k(model, test_sparse, k=10, item_features=item_features_sparse, num_threads=8).mean()"
   ]
  },
  {
   "cell_type": "code",
   "execution_count": 546,
   "metadata": {
    "cellId": "zt42e3sub3shw2bllhwusn"
   },
   "outputs": [],
   "source": [
    "train_auc = auc_score(model, train_sparse_matrix, item_features=item_features_sparse, num_threads=8).mean()"
   ]
  },
  {
   "cell_type": "code",
   "execution_count": 547,
   "metadata": {
    "cellId": "hq87lqpjl5ji9myqfwauc9"
   },
   "outputs": [],
   "source": [
    "test_auc = auc_score(model, test_sparse, item_features=item_features_sparse, num_threads=8).mean()"
   ]
  },
  {
   "cell_type": "code",
   "execution_count": 548,
   "metadata": {
    "cellId": "akpa1dycakmrrcqf0ij2u"
   },
   "outputs": [],
   "source": [
    "train_recall = recall_at_k(model, train_sparse_matrix, k=10, item_features=item_features_sparse, num_threads=8).mean()"
   ]
  },
  {
   "cell_type": "code",
   "execution_count": 549,
   "metadata": {
    "cellId": "z9bv2h1mh2sewykrcqkafe"
   },
   "outputs": [],
   "source": [
    "test_recall = recall_at_k(model, test_sparse, k=10, item_features=item_features_sparse, num_threads=8).mean()"
   ]
  },
  {
   "cell_type": "code",
   "execution_count": 550,
   "metadata": {
    "cellId": "djjgc04p0eubhqoto7yxmo"
   },
   "outputs": [
    {
     "name": "stdout",
     "output_type": "stream",
     "text": [
      "Precision: train 0.03, test 0.01.\n",
      "AUC: train 0.84, test 0.83.\n",
      "Recall: train 0.01, test 0.00.\n"
     ]
    }
   ],
   "source": [
    "print('Precision: train %.2f, test %.2f.' % (train_precision, test_precision))\n",
    "print('AUC: train %.2f, test %.2f.' % (train_auc, test_auc))\n",
    "print('Recall: train %.2f, test %.2f.' % (train_recall, test_recall))"
   ]
  },
  {
   "cell_type": "code",
   "execution_count": null,
   "metadata": {
    "cellId": "5oqb8g4mm445p7pop1hfi"
   },
   "outputs": [],
   "source": []
  }
 ],
 "metadata": {
  "colab": {
   "name": "Копия блокнота \"vk_core_ml.ipynb\"",
   "provenance": []
  },
  "kernelspec": {
   "display_name": "Yandex DataSphere Kernel",
   "language": "python",
   "name": "python3"
  },
  "language_info": {
   "codemirror_mode": {
    "name": "ipython",
    "version": 3
   },
   "file_extension": ".py",
   "mimetype": "text/x-python",
   "name": "python",
   "nbconvert_exporter": "python",
   "pygments_lexer": "ipython3",
   "version": "3.7.7"
  },
  "notebookId": "5d208218-99b7-45b6-8fa5-2098988afbc9",
  "notebookPath": "LightFM.ipynb"
 },
 "nbformat": 4,
 "nbformat_minor": 4
}
